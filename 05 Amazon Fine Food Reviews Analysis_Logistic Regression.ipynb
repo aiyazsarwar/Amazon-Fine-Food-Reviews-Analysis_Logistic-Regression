{
 "cells": [
  {
   "cell_type": "markdown",
   "metadata": {
    "colab_type": "text",
    "id": "AM7jsfwALPlp"
   },
   "source": [
    "# Amazon Fine Food Reviews Analysis\n",
    "\n",
    "\n",
    "Data Source: https://www.kaggle.com/snap/amazon-fine-food-reviews <br>\n",
    "\n",
    "EDA: https://nycdatascience.com/blog/student-works/amazon-fine-foods-visualization/\n",
    "\n",
    "\n",
    "The Amazon Fine Food Reviews dataset consists of reviews of fine foods from Amazon.<br>\n",
    "\n",
    "Number of reviews: 568,454<br>\n",
    "Number of users: 256,059<br>\n",
    "Number of products: 74,258<br>\n",
    "Timespan: Oct 1999 - Oct 2012<br>\n",
    "Number of Attributes/Columns in data: 10 \n",
    "\n",
    "Attribute Information:\n",
    "\n",
    "1. Id\n",
    "2. ProductId - unique identifier for the product\n",
    "3. UserId - unqiue identifier for the user\n",
    "4. ProfileName\n",
    "5. HelpfulnessNumerator - number of users who found the review helpful\n",
    "6. HelpfulnessDenominator - number of users who indicated whether they found the review helpful or not\n",
    "7. Score - rating between 1 and 5\n",
    "8. Time - timestamp for the review\n",
    "9. Summary - brief summary of the review\n",
    "10. Text - text of the review\n",
    "\n",
    "\n",
    "#### Objective:\n",
    "Given a review, determine whether the review is positive (rating of 4 or 5) or negative (rating of 1 or 2).\n",
    "\n",
    "<br>\n",
    "[Q] How to determine if a review is positive or negative?<br>\n",
    "<br> \n",
    "[Ans] We could use Score/Rating. A rating of 4 or 5 can be cosnidered as a positive review. A rating of 1 or 2 can be considered as negative one. A review of rating 3 is considered nuetral and such reviews are ignored from our analysis. This is an approximate and proxy way of determining the polarity (positivity/negativity) of a review.\n",
    "\n",
    "\n"
   ]
  },
  {
   "cell_type": "markdown",
   "metadata": {
    "colab_type": "text",
    "id": "CaQ7XJ4OLPls"
   },
   "source": [
    "# [1]. Reading Data"
   ]
  },
  {
   "cell_type": "markdown",
   "metadata": {
    "colab_type": "text",
    "id": "5VnEBjKRLPlu"
   },
   "source": [
    "## [1.1] Loading the data\n",
    "\n",
    "The dataset is available in two forms\n",
    "1. .csv file\n",
    "2. SQLite Database\n",
    "\n",
    "In order to load the data, We have used the SQLITE dataset as it is easier to query the data and visualise the data efficiently.\n",
    "<br> \n",
    "\n",
    "Here as we only want to get the global sentiment of the recommendations (positive or negative), we will purposefully ignore all Scores equal to 3. If the score is above 3, then the recommendation wil be set to \"positive\". Otherwise, it will be set to \"negative\"."
   ]
  },
  {
   "cell_type": "code",
   "execution_count": 279,
   "metadata": {
    "colab": {},
    "colab_type": "code",
    "id": "x6YclOzXLPlv"
   },
   "outputs": [],
   "source": [
    "%matplotlib inline\n",
    "import warnings\n",
    "warnings.filterwarnings(\"ignore\")\n",
    "\n",
    "\n",
    "import sqlite3\n",
    "import pandas as pd\n",
    "import numpy as np\n",
    "import nltk\n",
    "import string\n",
    "import matplotlib.pyplot as plt\n",
    "import seaborn as sns\n",
    "from sklearn.feature_extraction.text import TfidfTransformer\n",
    "from sklearn.feature_extraction.text import TfidfVectorizer\n",
    "\n",
    "from sklearn.feature_extraction.text import CountVectorizer\n",
    "from sklearn.metrics import confusion_matrix\n",
    "from sklearn import metrics\n",
    "from sklearn.metrics import roc_curve, auc\n",
    "from nltk.stem.porter import PorterStemmer\n",
    "\n",
    "import re\n",
    "# Tutorial about Python regular expressions: https://pymotw.com/2/re/\n",
    "import string\n",
    "from nltk.corpus import stopwords\n",
    "from nltk.stem import PorterStemmer\n",
    "from nltk.stem.wordnet import WordNetLemmatizer\n",
    "\n",
    "from gensim.models import Word2Vec\n",
    "from gensim.models import KeyedVectors\n",
    "import pickle\n",
    "\n",
    "from tqdm import tqdm\n",
    "import os"
   ]
  },
  {
   "cell_type": "code",
   "execution_count": 280,
   "metadata": {
    "colab": {},
    "colab_type": "code",
    "id": "NZ4OSpSiLPl0",
    "outputId": "241c4c64-6186-4351-e38f-fcd06c6896dd"
   },
   "outputs": [
    {
     "name": "stdout",
     "output_type": "stream",
     "text": [
      "Number of data points in our data (100000, 10)\n"
     ]
    },
    {
     "data": {
      "text/html": [
       "<div>\n",
       "<style scoped>\n",
       "    .dataframe tbody tr th:only-of-type {\n",
       "        vertical-align: middle;\n",
       "    }\n",
       "\n",
       "    .dataframe tbody tr th {\n",
       "        vertical-align: top;\n",
       "    }\n",
       "\n",
       "    .dataframe thead th {\n",
       "        text-align: right;\n",
       "    }\n",
       "</style>\n",
       "<table border=\"1\" class=\"dataframe\">\n",
       "  <thead>\n",
       "    <tr style=\"text-align: right;\">\n",
       "      <th></th>\n",
       "      <th>Id</th>\n",
       "      <th>ProductId</th>\n",
       "      <th>UserId</th>\n",
       "      <th>ProfileName</th>\n",
       "      <th>HelpfulnessNumerator</th>\n",
       "      <th>HelpfulnessDenominator</th>\n",
       "      <th>Score</th>\n",
       "      <th>Time</th>\n",
       "      <th>Summary</th>\n",
       "      <th>Text</th>\n",
       "    </tr>\n",
       "  </thead>\n",
       "  <tbody>\n",
       "    <tr>\n",
       "      <th>0</th>\n",
       "      <td>1</td>\n",
       "      <td>B001E4KFG0</td>\n",
       "      <td>A3SGXH7AUHU8GW</td>\n",
       "      <td>delmartian</td>\n",
       "      <td>1</td>\n",
       "      <td>1</td>\n",
       "      <td>1</td>\n",
       "      <td>1303862400</td>\n",
       "      <td>Good Quality Dog Food</td>\n",
       "      <td>I have bought several of the Vitality canned d...</td>\n",
       "    </tr>\n",
       "    <tr>\n",
       "      <th>1</th>\n",
       "      <td>2</td>\n",
       "      <td>B00813GRG4</td>\n",
       "      <td>A1D87F6ZCVE5NK</td>\n",
       "      <td>dll pa</td>\n",
       "      <td>0</td>\n",
       "      <td>0</td>\n",
       "      <td>0</td>\n",
       "      <td>1346976000</td>\n",
       "      <td>Not as Advertised</td>\n",
       "      <td>Product arrived labeled as Jumbo Salted Peanut...</td>\n",
       "    </tr>\n",
       "    <tr>\n",
       "      <th>2</th>\n",
       "      <td>3</td>\n",
       "      <td>B000LQOCH0</td>\n",
       "      <td>ABXLMWJIXXAIN</td>\n",
       "      <td>Natalia Corres \"Natalia Corres\"</td>\n",
       "      <td>1</td>\n",
       "      <td>1</td>\n",
       "      <td>1</td>\n",
       "      <td>1219017600</td>\n",
       "      <td>\"Delight\" says it all</td>\n",
       "      <td>This is a confection that has been around a fe...</td>\n",
       "    </tr>\n",
       "  </tbody>\n",
       "</table>\n",
       "</div>"
      ],
      "text/plain": [
       "   Id   ProductId          UserId                      ProfileName  \\\n",
       "0   1  B001E4KFG0  A3SGXH7AUHU8GW                       delmartian   \n",
       "1   2  B00813GRG4  A1D87F6ZCVE5NK                           dll pa   \n",
       "2   3  B000LQOCH0   ABXLMWJIXXAIN  Natalia Corres \"Natalia Corres\"   \n",
       "\n",
       "   HelpfulnessNumerator  HelpfulnessDenominator  Score        Time  \\\n",
       "0                     1                       1      1  1303862400   \n",
       "1                     0                       0      0  1346976000   \n",
       "2                     1                       1      1  1219017600   \n",
       "\n",
       "                 Summary                                               Text  \n",
       "0  Good Quality Dog Food  I have bought several of the Vitality canned d...  \n",
       "1      Not as Advertised  Product arrived labeled as Jumbo Salted Peanut...  \n",
       "2  \"Delight\" says it all  This is a confection that has been around a fe...  "
      ]
     },
     "execution_count": 280,
     "metadata": {},
     "output_type": "execute_result"
    }
   ],
   "source": [
    "# using SQLite Table to read data.\n",
    "con = sqlite3.connect('database.sqlite') \n",
    "\n",
    "# filtering only positive and negative reviews i.e. \n",
    "# not taking into consideration those reviews with Score=3\n",
    "# SELECT * FROM Reviews WHERE Score != 3 LIMIT 500000, will give top 500000 data points\n",
    "# you can change the number to any other number based on your computing power\n",
    "\n",
    "# filtered_data = pd.read_sql_query(\"\"\" SELECT * FROM Reviews WHERE Score != 3 LIMIT 500000\"\"\", con) \n",
    "# for tsne assignment you can take 5k data points\n",
    "\n",
    "filtered_data = pd.read_sql_query(\"\"\" SELECT * FROM Reviews WHERE Score != 3 LIMIT 100000\"\"\", con) \n",
    "\n",
    "# Give reviews with Score>3 a positive rating(1), and reviews with a score<3 a negative rating(0).\n",
    "def partition(x):\n",
    "    if x < 3:\n",
    "        return 0\n",
    "    return 1\n",
    "\n",
    "#changing reviews with score less than 3 to be positive and vice-versa\n",
    "actualScore = filtered_data['Score']\n",
    "positiveNegative = actualScore.map(partition) \n",
    "filtered_data['Score'] = positiveNegative\n",
    "print(\"Number of data points in our data\", filtered_data.shape)\n",
    "filtered_data.head(3)"
   ]
  },
  {
   "cell_type": "code",
   "execution_count": 281,
   "metadata": {
    "colab": {},
    "colab_type": "code",
    "id": "r44Y4VDjLPl7"
   },
   "outputs": [],
   "source": [
    "display = pd.read_sql_query(\"\"\"\n",
    "SELECT UserId, ProductId, ProfileName, Time, Score, Text, COUNT(*)\n",
    "FROM Reviews\n",
    "GROUP BY UserId\n",
    "HAVING COUNT(*)>1\n",
    "\"\"\", con)"
   ]
  },
  {
   "cell_type": "code",
   "execution_count": 282,
   "metadata": {
    "colab": {},
    "colab_type": "code",
    "id": "tTwINQv1LPl_",
    "outputId": "0385b9ca-0a35-4c2b-b656-8e8494414e6f",
    "scrolled": true
   },
   "outputs": [
    {
     "name": "stdout",
     "output_type": "stream",
     "text": [
      "(80668, 7)\n"
     ]
    },
    {
     "data": {
      "text/html": [
       "<div>\n",
       "<style scoped>\n",
       "    .dataframe tbody tr th:only-of-type {\n",
       "        vertical-align: middle;\n",
       "    }\n",
       "\n",
       "    .dataframe tbody tr th {\n",
       "        vertical-align: top;\n",
       "    }\n",
       "\n",
       "    .dataframe thead th {\n",
       "        text-align: right;\n",
       "    }\n",
       "</style>\n",
       "<table border=\"1\" class=\"dataframe\">\n",
       "  <thead>\n",
       "    <tr style=\"text-align: right;\">\n",
       "      <th></th>\n",
       "      <th>UserId</th>\n",
       "      <th>ProductId</th>\n",
       "      <th>ProfileName</th>\n",
       "      <th>Time</th>\n",
       "      <th>Score</th>\n",
       "      <th>Text</th>\n",
       "      <th>COUNT(*)</th>\n",
       "    </tr>\n",
       "  </thead>\n",
       "  <tbody>\n",
       "    <tr>\n",
       "      <th>0</th>\n",
       "      <td>#oc-R115TNMSPFT9I7</td>\n",
       "      <td>B007Y59HVM</td>\n",
       "      <td>Breyton</td>\n",
       "      <td>1331510400</td>\n",
       "      <td>2</td>\n",
       "      <td>Overall its just OK when considering the price...</td>\n",
       "      <td>2</td>\n",
       "    </tr>\n",
       "    <tr>\n",
       "      <th>1</th>\n",
       "      <td>#oc-R11D9D7SHXIJB9</td>\n",
       "      <td>B005HG9ET0</td>\n",
       "      <td>Louis E. Emory \"hoppy\"</td>\n",
       "      <td>1342396800</td>\n",
       "      <td>5</td>\n",
       "      <td>My wife has recurring extreme muscle spasms, u...</td>\n",
       "      <td>3</td>\n",
       "    </tr>\n",
       "    <tr>\n",
       "      <th>2</th>\n",
       "      <td>#oc-R11DNU2NBKQ23Z</td>\n",
       "      <td>B007Y59HVM</td>\n",
       "      <td>Kim Cieszykowski</td>\n",
       "      <td>1348531200</td>\n",
       "      <td>1</td>\n",
       "      <td>This coffee is horrible and unfortunately not ...</td>\n",
       "      <td>2</td>\n",
       "    </tr>\n",
       "    <tr>\n",
       "      <th>3</th>\n",
       "      <td>#oc-R11O5J5ZVQE25C</td>\n",
       "      <td>B005HG9ET0</td>\n",
       "      <td>Penguin Chick</td>\n",
       "      <td>1346889600</td>\n",
       "      <td>5</td>\n",
       "      <td>This will be the bottle that you grab from the...</td>\n",
       "      <td>3</td>\n",
       "    </tr>\n",
       "    <tr>\n",
       "      <th>4</th>\n",
       "      <td>#oc-R12KPBODL2B5ZD</td>\n",
       "      <td>B007OSBE1U</td>\n",
       "      <td>Christopher P. Presta</td>\n",
       "      <td>1348617600</td>\n",
       "      <td>1</td>\n",
       "      <td>I didnt like this coffee. Instead of telling y...</td>\n",
       "      <td>2</td>\n",
       "    </tr>\n",
       "  </tbody>\n",
       "</table>\n",
       "</div>"
      ],
      "text/plain": [
       "               UserId   ProductId             ProfileName        Time  Score  \\\n",
       "0  #oc-R115TNMSPFT9I7  B007Y59HVM                 Breyton  1331510400      2   \n",
       "1  #oc-R11D9D7SHXIJB9  B005HG9ET0  Louis E. Emory \"hoppy\"  1342396800      5   \n",
       "2  #oc-R11DNU2NBKQ23Z  B007Y59HVM        Kim Cieszykowski  1348531200      1   \n",
       "3  #oc-R11O5J5ZVQE25C  B005HG9ET0           Penguin Chick  1346889600      5   \n",
       "4  #oc-R12KPBODL2B5ZD  B007OSBE1U   Christopher P. Presta  1348617600      1   \n",
       "\n",
       "                                                Text  COUNT(*)  \n",
       "0  Overall its just OK when considering the price...         2  \n",
       "1  My wife has recurring extreme muscle spasms, u...         3  \n",
       "2  This coffee is horrible and unfortunately not ...         2  \n",
       "3  This will be the bottle that you grab from the...         3  \n",
       "4  I didnt like this coffee. Instead of telling y...         2  "
      ]
     },
     "execution_count": 282,
     "metadata": {},
     "output_type": "execute_result"
    }
   ],
   "source": [
    "print(display.shape)\n",
    "display.head()"
   ]
  },
  {
   "cell_type": "code",
   "execution_count": 283,
   "metadata": {
    "colab": {},
    "colab_type": "code",
    "id": "EOslHQgnLPmF",
    "outputId": "cb28598d-470a-42bb-e742-4763f953c8cb"
   },
   "outputs": [
    {
     "data": {
      "text/html": [
       "<div>\n",
       "<style scoped>\n",
       "    .dataframe tbody tr th:only-of-type {\n",
       "        vertical-align: middle;\n",
       "    }\n",
       "\n",
       "    .dataframe tbody tr th {\n",
       "        vertical-align: top;\n",
       "    }\n",
       "\n",
       "    .dataframe thead th {\n",
       "        text-align: right;\n",
       "    }\n",
       "</style>\n",
       "<table border=\"1\" class=\"dataframe\">\n",
       "  <thead>\n",
       "    <tr style=\"text-align: right;\">\n",
       "      <th></th>\n",
       "      <th>UserId</th>\n",
       "      <th>ProductId</th>\n",
       "      <th>ProfileName</th>\n",
       "      <th>Time</th>\n",
       "      <th>Score</th>\n",
       "      <th>Text</th>\n",
       "      <th>COUNT(*)</th>\n",
       "    </tr>\n",
       "  </thead>\n",
       "  <tbody>\n",
       "    <tr>\n",
       "      <th>80638</th>\n",
       "      <td>AZY10LLTJ71NX</td>\n",
       "      <td>B006P7E5ZI</td>\n",
       "      <td>undertheshrine \"undertheshrine\"</td>\n",
       "      <td>1334707200</td>\n",
       "      <td>5</td>\n",
       "      <td>I was recommended to try green tea extract to ...</td>\n",
       "      <td>5</td>\n",
       "    </tr>\n",
       "  </tbody>\n",
       "</table>\n",
       "</div>"
      ],
      "text/plain": [
       "              UserId   ProductId                      ProfileName        Time  \\\n",
       "80638  AZY10LLTJ71NX  B006P7E5ZI  undertheshrine \"undertheshrine\"  1334707200   \n",
       "\n",
       "       Score                                               Text  COUNT(*)  \n",
       "80638      5  I was recommended to try green tea extract to ...         5  "
      ]
     },
     "execution_count": 283,
     "metadata": {},
     "output_type": "execute_result"
    }
   ],
   "source": [
    "display[display['UserId']=='AZY10LLTJ71NX']"
   ]
  },
  {
   "cell_type": "code",
   "execution_count": 284,
   "metadata": {
    "colab": {},
    "colab_type": "code",
    "id": "pSwF4sdoLPmM",
    "outputId": "2f3bd7f2-0eea-45f7-eab6-bf08c630d9a3"
   },
   "outputs": [
    {
     "data": {
      "text/plain": [
       "393063"
      ]
     },
     "execution_count": 284,
     "metadata": {},
     "output_type": "execute_result"
    }
   ],
   "source": [
    "display['COUNT(*)'].sum()"
   ]
  },
  {
   "cell_type": "markdown",
   "metadata": {
    "colab_type": "text",
    "id": "PuNkhjz0LPmQ"
   },
   "source": [
    "#  [2] Exploratory Data Analysis"
   ]
  },
  {
   "cell_type": "markdown",
   "metadata": {
    "colab_type": "text",
    "id": "oCJaTWrTLPmS"
   },
   "source": [
    "## [2.1] Data Cleaning: Deduplication\n",
    "\n",
    "It is observed (as shown in the table below) that the reviews data had many duplicate entries. Hence it was necessary to remove duplicates in order to get unbiased results for the analysis of the data.  Following is an example:"
   ]
  },
  {
   "cell_type": "code",
   "execution_count": 285,
   "metadata": {
    "colab": {},
    "colab_type": "code",
    "id": "3lvzRwWVLPmT",
    "outputId": "96ba6f90-6c40-4972-ecd2-d2d208e48877",
    "scrolled": false
   },
   "outputs": [
    {
     "data": {
      "text/html": [
       "<div>\n",
       "<style scoped>\n",
       "    .dataframe tbody tr th:only-of-type {\n",
       "        vertical-align: middle;\n",
       "    }\n",
       "\n",
       "    .dataframe tbody tr th {\n",
       "        vertical-align: top;\n",
       "    }\n",
       "\n",
       "    .dataframe thead th {\n",
       "        text-align: right;\n",
       "    }\n",
       "</style>\n",
       "<table border=\"1\" class=\"dataframe\">\n",
       "  <thead>\n",
       "    <tr style=\"text-align: right;\">\n",
       "      <th></th>\n",
       "      <th>Id</th>\n",
       "      <th>ProductId</th>\n",
       "      <th>UserId</th>\n",
       "      <th>ProfileName</th>\n",
       "      <th>HelpfulnessNumerator</th>\n",
       "      <th>HelpfulnessDenominator</th>\n",
       "      <th>Score</th>\n",
       "      <th>Time</th>\n",
       "      <th>Summary</th>\n",
       "      <th>Text</th>\n",
       "    </tr>\n",
       "  </thead>\n",
       "  <tbody>\n",
       "    <tr>\n",
       "      <th>0</th>\n",
       "      <td>78445</td>\n",
       "      <td>B000HDL1RQ</td>\n",
       "      <td>AR5J8UI46CURR</td>\n",
       "      <td>Geetha Krishnan</td>\n",
       "      <td>2</td>\n",
       "      <td>2</td>\n",
       "      <td>5</td>\n",
       "      <td>1199577600</td>\n",
       "      <td>LOACKER QUADRATINI VANILLA WAFERS</td>\n",
       "      <td>DELICIOUS WAFERS. I FIND THAT EUROPEAN WAFERS ...</td>\n",
       "    </tr>\n",
       "    <tr>\n",
       "      <th>1</th>\n",
       "      <td>138317</td>\n",
       "      <td>B000HDOPYC</td>\n",
       "      <td>AR5J8UI46CURR</td>\n",
       "      <td>Geetha Krishnan</td>\n",
       "      <td>2</td>\n",
       "      <td>2</td>\n",
       "      <td>5</td>\n",
       "      <td>1199577600</td>\n",
       "      <td>LOACKER QUADRATINI VANILLA WAFERS</td>\n",
       "      <td>DELICIOUS WAFERS. I FIND THAT EUROPEAN WAFERS ...</td>\n",
       "    </tr>\n",
       "    <tr>\n",
       "      <th>2</th>\n",
       "      <td>138277</td>\n",
       "      <td>B000HDOPYM</td>\n",
       "      <td>AR5J8UI46CURR</td>\n",
       "      <td>Geetha Krishnan</td>\n",
       "      <td>2</td>\n",
       "      <td>2</td>\n",
       "      <td>5</td>\n",
       "      <td>1199577600</td>\n",
       "      <td>LOACKER QUADRATINI VANILLA WAFERS</td>\n",
       "      <td>DELICIOUS WAFERS. I FIND THAT EUROPEAN WAFERS ...</td>\n",
       "    </tr>\n",
       "    <tr>\n",
       "      <th>3</th>\n",
       "      <td>73791</td>\n",
       "      <td>B000HDOPZG</td>\n",
       "      <td>AR5J8UI46CURR</td>\n",
       "      <td>Geetha Krishnan</td>\n",
       "      <td>2</td>\n",
       "      <td>2</td>\n",
       "      <td>5</td>\n",
       "      <td>1199577600</td>\n",
       "      <td>LOACKER QUADRATINI VANILLA WAFERS</td>\n",
       "      <td>DELICIOUS WAFERS. I FIND THAT EUROPEAN WAFERS ...</td>\n",
       "    </tr>\n",
       "    <tr>\n",
       "      <th>4</th>\n",
       "      <td>155049</td>\n",
       "      <td>B000PAQ75C</td>\n",
       "      <td>AR5J8UI46CURR</td>\n",
       "      <td>Geetha Krishnan</td>\n",
       "      <td>2</td>\n",
       "      <td>2</td>\n",
       "      <td>5</td>\n",
       "      <td>1199577600</td>\n",
       "      <td>LOACKER QUADRATINI VANILLA WAFERS</td>\n",
       "      <td>DELICIOUS WAFERS. I FIND THAT EUROPEAN WAFERS ...</td>\n",
       "    </tr>\n",
       "  </tbody>\n",
       "</table>\n",
       "</div>"
      ],
      "text/plain": [
       "       Id   ProductId         UserId      ProfileName  HelpfulnessNumerator  \\\n",
       "0   78445  B000HDL1RQ  AR5J8UI46CURR  Geetha Krishnan                     2   \n",
       "1  138317  B000HDOPYC  AR5J8UI46CURR  Geetha Krishnan                     2   \n",
       "2  138277  B000HDOPYM  AR5J8UI46CURR  Geetha Krishnan                     2   \n",
       "3   73791  B000HDOPZG  AR5J8UI46CURR  Geetha Krishnan                     2   \n",
       "4  155049  B000PAQ75C  AR5J8UI46CURR  Geetha Krishnan                     2   \n",
       "\n",
       "   HelpfulnessDenominator  Score        Time  \\\n",
       "0                       2      5  1199577600   \n",
       "1                       2      5  1199577600   \n",
       "2                       2      5  1199577600   \n",
       "3                       2      5  1199577600   \n",
       "4                       2      5  1199577600   \n",
       "\n",
       "                             Summary  \\\n",
       "0  LOACKER QUADRATINI VANILLA WAFERS   \n",
       "1  LOACKER QUADRATINI VANILLA WAFERS   \n",
       "2  LOACKER QUADRATINI VANILLA WAFERS   \n",
       "3  LOACKER QUADRATINI VANILLA WAFERS   \n",
       "4  LOACKER QUADRATINI VANILLA WAFERS   \n",
       "\n",
       "                                                Text  \n",
       "0  DELICIOUS WAFERS. I FIND THAT EUROPEAN WAFERS ...  \n",
       "1  DELICIOUS WAFERS. I FIND THAT EUROPEAN WAFERS ...  \n",
       "2  DELICIOUS WAFERS. I FIND THAT EUROPEAN WAFERS ...  \n",
       "3  DELICIOUS WAFERS. I FIND THAT EUROPEAN WAFERS ...  \n",
       "4  DELICIOUS WAFERS. I FIND THAT EUROPEAN WAFERS ...  "
      ]
     },
     "execution_count": 285,
     "metadata": {},
     "output_type": "execute_result"
    }
   ],
   "source": [
    "display= pd.read_sql_query(\"\"\"\n",
    "SELECT *\n",
    "FROM Reviews\n",
    "WHERE Score != 3 AND UserId=\"AR5J8UI46CURR\"\n",
    "ORDER BY ProductID\n",
    "\"\"\", con)\n",
    "display.head()"
   ]
  },
  {
   "cell_type": "markdown",
   "metadata": {
    "colab_type": "text",
    "id": "uT7p9_deLPmb"
   },
   "source": [
    "As it can be seen above that same user has multiple reviews with same values for HelpfulnessNumerator, HelpfulnessDenominator, Score, Time, Summary and Text and on doing analysis it was found that <br>\n",
    "<br> \n",
    "ProductId=B000HDOPZG was Loacker Quadratini Vanilla Wafer Cookies, 8.82-Ounce Packages (Pack of 8)<br>\n",
    "<br> \n",
    "ProductId=B000HDL1RQ was Loacker Quadratini Lemon Wafer Cookies, 8.82-Ounce Packages (Pack of 8) and so on<br>\n",
    "\n",
    "It was inferred after analysis that reviews with same parameters other than ProductId belonged to the same product just having different flavour or quantity. Hence in order to reduce redundancy it was decided to eliminate the rows having same parameters.<br>\n",
    "\n",
    "The method used for the same was that we first sort the data according to ProductId and then just keep the first similar product review and delelte the others. for eg. in the above just the review for ProductId=B000HDL1RQ remains. This method ensures that there is only one representative for each product and deduplication without sorting would lead to possibility of different representatives still existing for the same product."
   ]
  },
  {
   "cell_type": "code",
   "execution_count": 286,
   "metadata": {
    "colab": {},
    "colab_type": "code",
    "id": "mdsKFc50LPme"
   },
   "outputs": [],
   "source": [
    "#Sorting data according to ProductId in ascending order\n",
    "sorted_data=filtered_data.sort_values('ProductId', axis=0, ascending=True, inplace=False, kind='quicksort', na_position='last')"
   ]
  },
  {
   "cell_type": "code",
   "execution_count": 287,
   "metadata": {
    "colab": {},
    "colab_type": "code",
    "id": "2itLgX-NLPmk",
    "outputId": "ac765625-dfdc-4e4e-f886-bd3b7ca3635a"
   },
   "outputs": [
    {
     "data": {
      "text/plain": [
       "(87775, 10)"
      ]
     },
     "execution_count": 287,
     "metadata": {},
     "output_type": "execute_result"
    }
   ],
   "source": [
    "#Deduplication of entries\n",
    "final=sorted_data.drop_duplicates(subset={\"UserId\",\"ProfileName\",\"Time\",\"Text\"}, keep='first', inplace=False)\n",
    "final.shape"
   ]
  },
  {
   "cell_type": "code",
   "execution_count": 288,
   "metadata": {
    "colab": {},
    "colab_type": "code",
    "id": "IBU4iZk4LPmt",
    "outputId": "ceeba223-fe3f-407a-b4e5-0d46c08f69dd"
   },
   "outputs": [
    {
     "data": {
      "text/plain": [
       "87.775"
      ]
     },
     "execution_count": 288,
     "metadata": {},
     "output_type": "execute_result"
    }
   ],
   "source": [
    "#Checking to see how much % of data still remains\n",
    "(final['Id'].size*1.0)/(filtered_data['Id'].size*1.0)*100"
   ]
  },
  {
   "cell_type": "markdown",
   "metadata": {
    "colab_type": "text",
    "id": "gFBOfSe4LPmy"
   },
   "source": [
    "<b>Observation:-</b> It was also seen that in two rows given below the value of HelpfulnessNumerator is greater than HelpfulnessDenominator which is not practically possible hence these two rows too are removed from calcualtions"
   ]
  },
  {
   "cell_type": "code",
   "execution_count": 289,
   "metadata": {
    "colab": {},
    "colab_type": "code",
    "id": "50flE40lLPmz",
    "outputId": "b6c7e38e-25c1-4a48-be1f-70fdf31aba13"
   },
   "outputs": [
    {
     "data": {
      "text/html": [
       "<div>\n",
       "<style scoped>\n",
       "    .dataframe tbody tr th:only-of-type {\n",
       "        vertical-align: middle;\n",
       "    }\n",
       "\n",
       "    .dataframe tbody tr th {\n",
       "        vertical-align: top;\n",
       "    }\n",
       "\n",
       "    .dataframe thead th {\n",
       "        text-align: right;\n",
       "    }\n",
       "</style>\n",
       "<table border=\"1\" class=\"dataframe\">\n",
       "  <thead>\n",
       "    <tr style=\"text-align: right;\">\n",
       "      <th></th>\n",
       "      <th>Id</th>\n",
       "      <th>ProductId</th>\n",
       "      <th>UserId</th>\n",
       "      <th>ProfileName</th>\n",
       "      <th>HelpfulnessNumerator</th>\n",
       "      <th>HelpfulnessDenominator</th>\n",
       "      <th>Score</th>\n",
       "      <th>Time</th>\n",
       "      <th>Summary</th>\n",
       "      <th>Text</th>\n",
       "    </tr>\n",
       "  </thead>\n",
       "  <tbody>\n",
       "    <tr>\n",
       "      <th>0</th>\n",
       "      <td>64422</td>\n",
       "      <td>B000MIDROQ</td>\n",
       "      <td>A161DK06JJMCYF</td>\n",
       "      <td>J. E. Stephens \"Jeanne\"</td>\n",
       "      <td>3</td>\n",
       "      <td>1</td>\n",
       "      <td>5</td>\n",
       "      <td>1224892800</td>\n",
       "      <td>Bought This for My Son at College</td>\n",
       "      <td>My son loves spaghetti so I didn't hesitate or...</td>\n",
       "    </tr>\n",
       "    <tr>\n",
       "      <th>1</th>\n",
       "      <td>44737</td>\n",
       "      <td>B001EQ55RW</td>\n",
       "      <td>A2V0I904FH7ABY</td>\n",
       "      <td>Ram</td>\n",
       "      <td>3</td>\n",
       "      <td>2</td>\n",
       "      <td>4</td>\n",
       "      <td>1212883200</td>\n",
       "      <td>Pure cocoa taste with crunchy almonds inside</td>\n",
       "      <td>It was almost a 'love at first bite' - the per...</td>\n",
       "    </tr>\n",
       "  </tbody>\n",
       "</table>\n",
       "</div>"
      ],
      "text/plain": [
       "      Id   ProductId          UserId              ProfileName  \\\n",
       "0  64422  B000MIDROQ  A161DK06JJMCYF  J. E. Stephens \"Jeanne\"   \n",
       "1  44737  B001EQ55RW  A2V0I904FH7ABY                      Ram   \n",
       "\n",
       "   HelpfulnessNumerator  HelpfulnessDenominator  Score        Time  \\\n",
       "0                     3                       1      5  1224892800   \n",
       "1                     3                       2      4  1212883200   \n",
       "\n",
       "                                        Summary  \\\n",
       "0             Bought This for My Son at College   \n",
       "1  Pure cocoa taste with crunchy almonds inside   \n",
       "\n",
       "                                                Text  \n",
       "0  My son loves spaghetti so I didn't hesitate or...  \n",
       "1  It was almost a 'love at first bite' - the per...  "
      ]
     },
     "execution_count": 289,
     "metadata": {},
     "output_type": "execute_result"
    }
   ],
   "source": [
    "display= pd.read_sql_query(\"\"\"\n",
    "SELECT *\n",
    "FROM Reviews\n",
    "WHERE Score != 3 AND Id=44737 OR Id=64422\n",
    "ORDER BY ProductID\n",
    "\"\"\", con)\n",
    "\n",
    "display.head()"
   ]
  },
  {
   "cell_type": "code",
   "execution_count": 290,
   "metadata": {
    "colab": {},
    "colab_type": "code",
    "id": "0YTPJMLTLPm7"
   },
   "outputs": [],
   "source": [
    "final=final[final.HelpfulnessNumerator<=final.HelpfulnessDenominator]"
   ]
  },
  {
   "cell_type": "code",
   "execution_count": 291,
   "metadata": {
    "colab": {},
    "colab_type": "code",
    "id": "LVJ_l-x2LPnC",
    "outputId": "d4a19c7a-16fe-4b5b-c3d1-aa1ef0f948a0"
   },
   "outputs": [
    {
     "name": "stdout",
     "output_type": "stream",
     "text": [
      "(87773, 10)\n"
     ]
    },
    {
     "data": {
      "text/plain": [
       "1    73592\n",
       "0    14181\n",
       "Name: Score, dtype: int64"
      ]
     },
     "execution_count": 291,
     "metadata": {},
     "output_type": "execute_result"
    }
   ],
   "source": [
    "#Before starting the next phase of preprocessing lets see the number of entries left\n",
    "print(final.shape)\n",
    "\n",
    "#How many positive and negative reviews are present in our dataset?\n",
    "final['Score'].value_counts()"
   ]
  },
  {
   "cell_type": "markdown",
   "metadata": {
    "colab_type": "text",
    "id": "GrTYWzYrLPnH"
   },
   "source": [
    "#  [3] Preprocessing"
   ]
  },
  {
   "cell_type": "markdown",
   "metadata": {
    "colab_type": "text",
    "id": "zbvLitZeLPnI"
   },
   "source": [
    "## [3.1].  Preprocessing Review Text\n",
    "\n",
    "Now that we have finished deduplication our data requires some preprocessing before we go on further with analysis and making the prediction model.\n",
    "\n",
    "Hence in the Preprocessing phase we do the following in the order below:-\n",
    "\n",
    "1. Begin by removing the html tags\n",
    "2. Remove any punctuations or limited set of special characters like , or . or # etc.\n",
    "3. Check if the word is made up of english letters and is not alpha-numeric\n",
    "4. Check to see if the length of the word is greater than 2 (as it was researched that there is no adjective in 2-letters)\n",
    "5. Convert the word to lowercase\n",
    "6. Remove Stopwords\n",
    "7. Finally Snowball Stemming the word (it was obsereved to be better than Porter Stemming)<br>\n",
    "\n",
    "After which we collect the words used to describe positive and negative reviews"
   ]
  },
  {
   "cell_type": "code",
   "execution_count": 292,
   "metadata": {
    "colab": {},
    "colab_type": "code",
    "id": "yYDc0ZXALPnK",
    "outputId": "5403fab9-796a-493d-f9d3-2a410d004f64"
   },
   "outputs": [
    {
     "name": "stdout",
     "output_type": "stream",
     "text": [
      "My dogs loves this chicken but its a product from China, so we wont be buying it anymore.  Its very hard to find any chicken products made in the USA but they are out there, but this one isnt.  Its too bad too because its a good product but I wont take any chances till they know what is going on with the china imports.\n",
      "==================================================\n",
      "The Candy Blocks were a nice visual for the Lego Birthday party but the candy has little taste to it.  Very little of the 2 lbs that I bought were eaten and I threw the rest away.  I would not buy the candy again.\n",
      "==================================================\n",
      "was way to hot for my blood, took a bite and did a jig  lol\n",
      "==================================================\n",
      "My dog LOVES these treats. They tend to have a very strong fish oil smell. So if you are afraid of the fishy smell, don't get it. But I think my dog likes it because of the smell. These treats are really small in size. They are great for training. You can give your dog several of these without worrying about him over eating. Amazon's price was much more reasonable than any other retailer. You can buy a 1 pound bag on Amazon for almost the same price as a 6 ounce bag at other retailers. It's definitely worth it to buy a big bag if your dog eats them a lot.\n",
      "==================================================\n"
     ]
    }
   ],
   "source": [
    "# printing some random reviews\n",
    "sent_0 = final['Text'].values[0]\n",
    "print(sent_0)\n",
    "print(\"=\"*50)\n",
    "\n",
    "sent_1000 = final['Text'].values[1000]\n",
    "print(sent_1000)\n",
    "print(\"=\"*50)\n",
    "\n",
    "sent_1500 = final['Text'].values[1500]\n",
    "print(sent_1500)\n",
    "print(\"=\"*50)\n",
    "\n",
    "sent_4900 = final['Text'].values[4900]\n",
    "print(sent_4900)\n",
    "print(\"=\"*50)"
   ]
  },
  {
   "cell_type": "code",
   "execution_count": 293,
   "metadata": {
    "colab": {},
    "colab_type": "code",
    "id": "AxYh-wPiLPnS",
    "outputId": "31bddcb2-6c52-4b16-f9fb-c03d5b3bb7c8"
   },
   "outputs": [
    {
     "name": "stdout",
     "output_type": "stream",
     "text": [
      "My dogs loves this chicken but its a product from China, so we wont be buying it anymore.  Its very hard to find any chicken products made in the USA but they are out there, but this one isnt.  Its too bad too because its a good product but I wont take any chances till they know what is going on with the china imports.\n"
     ]
    }
   ],
   "source": [
    "# remove urls from text python: https://stackoverflow.com/a/40823105/4084039\n",
    "sent_0 = re.sub(r\"http\\S+\", \"\", sent_0)\n",
    "sent_1000 = re.sub(r\"http\\S+\", \"\", sent_1000)\n",
    "sent_150 = re.sub(r\"http\\S+\", \"\", sent_1500)\n",
    "sent_4900 = re.sub(r\"http\\S+\", \"\", sent_4900)\n",
    "\n",
    "print(sent_0)"
   ]
  },
  {
   "cell_type": "code",
   "execution_count": 294,
   "metadata": {
    "colab": {},
    "colab_type": "code",
    "id": "JMSSWjZqLPne",
    "outputId": "eb1bae4e-6f37-45ee-84a3-ef3bebf4e30a"
   },
   "outputs": [
    {
     "name": "stdout",
     "output_type": "stream",
     "text": [
      "My dogs loves this chicken but its a product from China, so we wont be buying it anymore.  Its very hard to find any chicken products made in the USA but they are out there, but this one isnt.  Its too bad too because its a good product but I wont take any chances till they know what is going on with the china imports.\n",
      "==================================================\n",
      "The Candy Blocks were a nice visual for the Lego Birthday party but the candy has little taste to it.  Very little of the 2 lbs that I bought were eaten and I threw the rest away.  I would not buy the candy again.\n",
      "==================================================\n",
      "was way to hot for my blood, took a bite and did a jig  lol\n",
      "==================================================\n",
      "My dog LOVES these treats. They tend to have a very strong fish oil smell. So if you are afraid of the fishy smell, don't get it. But I think my dog likes it because of the smell. These treats are really small in size. They are great for training. You can give your dog several of these without worrying about him over eating. Amazon's price was much more reasonable than any other retailer. You can buy a 1 pound bag on Amazon for almost the same price as a 6 ounce bag at other retailers. It's definitely worth it to buy a big bag if your dog eats them a lot.\n"
     ]
    }
   ],
   "source": [
    "# https://stackoverflow.com/questions/16206380/python-beautifulsoup-how-to-remove-all-tags-from-an-element\n",
    "from bs4 import BeautifulSoup\n",
    "\n",
    "soup = BeautifulSoup(sent_0, 'lxml')\n",
    "text = soup.get_text()\n",
    "print(text)\n",
    "print(\"=\"*50)\n",
    "\n",
    "soup = BeautifulSoup(sent_1000, 'lxml')\n",
    "text = soup.get_text()\n",
    "print(text)\n",
    "print(\"=\"*50)\n",
    "\n",
    "soup = BeautifulSoup(sent_1500, 'lxml')\n",
    "text = soup.get_text()\n",
    "print(text)\n",
    "print(\"=\"*50)\n",
    "\n",
    "soup = BeautifulSoup(sent_4900, 'lxml')\n",
    "text = soup.get_text()\n",
    "print(text)"
   ]
  },
  {
   "cell_type": "code",
   "execution_count": 295,
   "metadata": {
    "colab": {},
    "colab_type": "code",
    "id": "BEtpMkhULPnt"
   },
   "outputs": [],
   "source": [
    "# https://stackoverflow.com/a/47091490/4084039\n",
    "import re\n",
    "\n",
    "def decontracted(phrase):\n",
    "    # specific\n",
    "    phrase = re.sub(r\"won't\", \"will not\", phrase)\n",
    "    phrase = re.sub(r\"can\\'t\", \"can not\", phrase)\n",
    "\n",
    "    # general\n",
    "    phrase = re.sub(r\"n\\'t\", \" not\", phrase)\n",
    "    phrase = re.sub(r\"\\'re\", \" are\", phrase)\n",
    "    phrase = re.sub(r\"\\'s\", \" is\", phrase)\n",
    "    phrase = re.sub(r\"\\'d\", \" would\", phrase)\n",
    "    phrase = re.sub(r\"\\'ll\", \" will\", phrase)\n",
    "    phrase = re.sub(r\"\\'t\", \" not\", phrase)\n",
    "    phrase = re.sub(r\"\\'ve\", \" have\", phrase)\n",
    "    phrase = re.sub(r\"\\'m\", \" am\", phrase)\n",
    "    return phrase"
   ]
  },
  {
   "cell_type": "code",
   "execution_count": 296,
   "metadata": {
    "colab": {},
    "colab_type": "code",
    "id": "GavAnzNjLPnx",
    "outputId": "517fca9a-b1b6-4c6c-ab33-4c5ac4a5bd62"
   },
   "outputs": [
    {
     "name": "stdout",
     "output_type": "stream",
     "text": [
      "was way to hot for my blood, took a bite and did a jig  lol\n",
      "==================================================\n"
     ]
    }
   ],
   "source": [
    "sent_1500 = decontracted(sent_1500)\n",
    "print(sent_1500)\n",
    "print(\"=\"*50)"
   ]
  },
  {
   "cell_type": "code",
   "execution_count": 297,
   "metadata": {
    "colab": {},
    "colab_type": "code",
    "id": "Kl8nOoL-LPn3",
    "outputId": "16742d57-2529-4fc0-9d28-e9332dbbca97"
   },
   "outputs": [
    {
     "name": "stdout",
     "output_type": "stream",
     "text": [
      "My dogs loves this chicken but its a product from China, so we wont be buying it anymore.  Its very hard to find any chicken products made in the USA but they are out there, but this one isnt.  Its too bad too because its a good product but I wont take any chances till they know what is going on with the china imports.\n"
     ]
    }
   ],
   "source": [
    "#remove words with numbers python: https://stackoverflow.com/a/18082370/4084039\n",
    "sent_0 = re.sub(\"\\S*\\d\\S*\", \"\", sent_0).strip()\n",
    "print(sent_0)"
   ]
  },
  {
   "cell_type": "code",
   "execution_count": 298,
   "metadata": {
    "colab": {},
    "colab_type": "code",
    "id": "EGB6X2uxLPn7",
    "outputId": "dbd754e5-eb73-4b3a-f3c3-7b1b40952851"
   },
   "outputs": [
    {
     "name": "stdout",
     "output_type": "stream",
     "text": [
      "was way to hot for my blood took a bite and did a jig lol\n"
     ]
    }
   ],
   "source": [
    "#remove spacial character: https://stackoverflow.com/a/5843547/4084039\n",
    "sent_1500 = re.sub('[^A-Za-z0-9]+', ' ', sent_1500)\n",
    "print(sent_1500)"
   ]
  },
  {
   "cell_type": "code",
   "execution_count": 299,
   "metadata": {
    "colab": {},
    "colab_type": "code",
    "id": "CCurSJJ2LPn_"
   },
   "outputs": [],
   "source": [
    "# https://gist.github.com/sebleier/554280\n",
    "# we are removing the words from the stop words list: 'no', 'nor', 'not'\n",
    "# <br /><br /> ==> after the above steps, we are getting \"br br\"\n",
    "# we are including them into stop words list\n",
    "# instead of <br /> if we have <br/> these tags would have revmoved in the 1st step\n",
    "\n",
    "stopwords= set(['br', 'the', 'i', 'me', 'my', 'myself', 'we', 'our', 'ours', 'ourselves', 'you', \"you're\", \"you've\",\\\n",
    "            \"you'll\", \"you'd\", 'your', 'yours', 'yourself', 'yourselves', 'he', 'him', 'his', 'himself', \\\n",
    "            'she', \"she's\", 'her', 'hers', 'herself', 'it', \"it's\", 'its', 'itself', 'they', 'them', 'their',\\\n",
    "            'theirs', 'themselves', 'what', 'which', 'who', 'whom', 'this', 'that', \"that'll\", 'these', 'those', \\\n",
    "            'am', 'is', 'are', 'was', 'were', 'be', 'been', 'being', 'have', 'has', 'had', 'having', 'do', 'does', \\\n",
    "            'did', 'doing', 'a', 'an', 'the', 'and', 'but', 'if', 'or', 'because', 'as', 'until', 'while', 'of', \\\n",
    "            'at', 'by', 'for', 'with', 'about', 'against', 'between', 'into', 'through', 'during', 'before', 'after',\\\n",
    "            'above', 'below', 'to', 'from', 'up', 'down', 'in', 'out', 'on', 'off', 'over', 'under', 'again', 'further',\\\n",
    "            'then', 'once', 'here', 'there', 'when', 'where', 'why', 'how', 'all', 'any', 'both', 'each', 'few', 'more',\\\n",
    "            'most', 'other', 'some', 'such', 'only', 'own', 'same', 'so', 'than', 'too', 'very', \\\n",
    "            's', 't', 'can', 'will', 'just', 'don', \"don't\", 'should', \"should've\", 'now', 'd', 'll', 'm', 'o', 're', \\\n",
    "            've', 'y', 'ain', 'aren', \"aren't\", 'couldn', \"couldn't\", 'didn', \"didn't\", 'doesn', \"doesn't\", 'hadn',\\\n",
    "            \"hadn't\", 'hasn', \"hasn't\", 'haven', \"haven't\", 'isn', \"isn't\", 'ma', 'mightn', \"mightn't\", 'mustn',\\\n",
    "            \"mustn't\", 'needn', \"needn't\", 'shan', \"shan't\", 'shouldn', \"shouldn't\", 'wasn', \"wasn't\", 'weren', \"weren't\", \\\n",
    "            'won', \"won't\", 'wouldn', \"wouldn't\"])"
   ]
  },
  {
   "cell_type": "code",
   "execution_count": 300,
   "metadata": {
    "colab": {},
    "colab_type": "code",
    "id": "mFHQEvfnLPoF",
    "outputId": "5cd6bcc3-54fe-4a8e-a39d-d6dabf3f37f9"
   },
   "outputs": [
    {
     "name": "stderr",
     "output_type": "stream",
     "text": [
      "100%|██████████████████████████████████████████████████████████████████████████| 87773/87773 [00:28<00:00, 3127.15it/s]\n"
     ]
    }
   ],
   "source": [
    "# Combining all the above stundents \n",
    "from tqdm import tqdm\n",
    "preprocessed_reviews = []\n",
    "# tqdm is for printing the status bar\n",
    "for sentance in tqdm(final['Text'].values):\n",
    "    sentance = re.sub(r\"http\\S+\", \"\", sentance)\n",
    "    sentance = BeautifulSoup(sentance, 'lxml').get_text()\n",
    "    sentance = decontracted(sentance)\n",
    "    sentance = re.sub(\"\\S*\\d\\S*\", \"\", sentance).strip()\n",
    "    sentance = re.sub('[^A-Za-z]+', ' ', sentance)\n",
    "    # https://gist.github.com/sebleier/554280\n",
    "    sentance = ' '.join(e.lower() for e in sentance.split() if e.lower() not in stopwords)\n",
    "    preprocessed_reviews.append(sentance.strip())"
   ]
  },
  {
   "cell_type": "code",
   "execution_count": 301,
   "metadata": {
    "colab": {},
    "colab_type": "code",
    "id": "Tqx8QUeRLPoH",
    "outputId": "0182081c-6282-4113-b186-5b5bac596388"
   },
   "outputs": [
    {
     "data": {
      "text/plain": [
       "'way hot blood took bite jig lol'"
      ]
     },
     "execution_count": 301,
     "metadata": {},
     "output_type": "execute_result"
    }
   ],
   "source": [
    "preprocessed_reviews[1500]"
   ]
  },
  {
   "cell_type": "markdown",
   "metadata": {
    "colab_type": "text",
    "id": "9IuKp2HULPoL"
   },
   "source": [
    "<h2><font color='red'>[3.2] Preprocessing Review Summary</font></h2>"
   ]
  },
  {
   "cell_type": "code",
   "execution_count": 302,
   "metadata": {
    "colab": {},
    "colab_type": "code",
    "id": "Qk7gYOmKLPoM"
   },
   "outputs": [
    {
     "name": "stderr",
     "output_type": "stream",
     "text": [
      "100%|██████████████████████████████████████████████████████████████████████████| 87773/87773 [00:19<00:00, 4454.91it/s]\n"
     ]
    }
   ],
   "source": [
    "## Similartly you can do preprocessing for review summary also\n",
    "preprocessed_summary = []\n",
    "# tqdm is for printing the status bar\n",
    "for sentance in tqdm(final['Summary'].values):\n",
    "    sentance = re.sub(r\"http\\S+\", \"\", sentance)\n",
    "    sentance = BeautifulSoup(sentance, 'lxml').get_text()\n",
    "    sentance = decontracted(sentance)\n",
    "    sentance = re.sub(\"\\S*\\d\\S*\", \"\", sentance).strip()\n",
    "    sentance = re.sub('[^A-Za-z]+', ' ', sentance)\n",
    "    # https://gist.github.com/sebleier/554280\n",
    "    sentance = ' '.join(e.lower() for e in sentance.split() if e.lower() not in stopwords)\n",
    "    preprocessed_summary.append(sentance.strip())"
   ]
  },
  {
   "cell_type": "markdown",
   "metadata": {},
   "source": [
    "# Splitting data into train and test set"
   ]
  },
  {
   "cell_type": "code",
   "execution_count": 303,
   "metadata": {},
   "outputs": [],
   "source": [
    "from sklearn.model_selection import train_test_split\n",
    "\n",
    "X_train,X_test,y_train,y_test = train_test_split(preprocessed_reviews,final['Score'],random_state=100,test_size=0.30,shuffle=False)\n",
    "\n",
    "X_train2,X_CV,y_train2,y_CV = train_test_split(X_train,y_train,random_state=100,test_size=0.30,shuffle=False)"
   ]
  },
  {
   "cell_type": "markdown",
   "metadata": {
    "colab_type": "text",
    "id": "B93jqKuhLPoQ"
   },
   "source": [
    "# [4] Featurization"
   ]
  },
  {
   "cell_type": "markdown",
   "metadata": {
    "colab_type": "text",
    "id": "Mr4j2QhgLPoQ"
   },
   "source": [
    "## [4.1] BAG OF WORDS"
   ]
  },
  {
   "cell_type": "code",
   "execution_count": 304,
   "metadata": {
    "colab": {},
    "colab_type": "code",
    "id": "dZVHt3mtLPoR",
    "outputId": "ea1629cd-7c92-400e-9acd-f7caeef0f389"
   },
   "outputs": [
    {
     "name": "stdout",
     "output_type": "stream",
     "text": [
      "some feature names  ['aa', 'aaa', 'aaaa', 'aaaaaaaaaaaa', 'aaaaaaaaaaaaaaa', 'aaaaah', 'aaaah', 'aaaand', 'aachen', 'aadp']\n",
      "==================================================\n",
      "the type of count vectorizer  <class 'scipy.sparse.csr.csr_matrix'>\n",
      "the shape of out text BOW vectorizer  (43008, 38816)\n",
      "the number of unique words  38816\n"
     ]
    }
   ],
   "source": [
    "#BoW\n",
    "count_vect = CountVectorizer() #in scikit-learn\n",
    "count_vect.fit(X_train2)\n",
    "print(\"some feature names \", count_vect.get_feature_names()[:10])\n",
    "print('='*50)\n",
    "features_bow = count_vect.get_feature_names()\n",
    "final_counts = count_vect.transform(X_train2)\n",
    "print(\"the type of count vectorizer \",type(final_counts))\n",
    "print(\"the shape of out text BOW vectorizer \",final_counts.get_shape())\n",
    "print(\"the number of unique words \", final_counts.get_shape()[1])\n",
    "\n",
    "final_countsCV = count_vect.transform(X_CV)\n",
    "final_countsTEST = count_vect.transform(X_test)"
   ]
  },
  {
   "cell_type": "markdown",
   "metadata": {
    "colab_type": "text",
    "id": "tSf5kRdLLPoV"
   },
   "source": [
    "## [4.2] Bi-Grams and n-Grams."
   ]
  },
  {
   "cell_type": "code",
   "execution_count": 305,
   "metadata": {
    "colab": {},
    "colab_type": "code",
    "id": "Yfk2d7bLLPoW",
    "outputId": "33472132-5eb3-493f-b08c-081749f99239"
   },
   "outputs": [
    {
     "name": "stdout",
     "output_type": "stream",
     "text": [
      "some feature names  ['ability', 'able', 'able buy', 'able find', 'able get', 'able order', 'absolute', 'absolute favorite', 'absolutely', 'absolutely best']\n",
      "==================================================\n",
      "the type of count vectorizer  <class 'scipy.sparse.csr.csr_matrix'>\n",
      "the shape of out text BOW vectorizer  (43008, 5000)\n",
      "the number of unique words including both unigrams and bigrams  5000\n"
     ]
    }
   ],
   "source": [
    "#bi-gram, tri-gram and n-gram\n",
    "\n",
    "#removing stop words like \"not\" should be avoided before building n-grams\n",
    "# count_vect = CountVectorizer(ngram_range=(1,2))\n",
    "# please do read the CountVectorizer documentation http://scikit-learn.org/stable/modules/generated/sklearn.feature_extraction.text.CountVectorizer.html\n",
    "\n",
    "# you can choose these numebrs min_df=10, max_features=5000, of your choice\n",
    "count_vect2 = CountVectorizer(ngram_range=(1,2), min_df=10, max_features=5000)\n",
    "count_vect2.fit(X_train2)\n",
    "print(\"some feature names \", count_vect2.get_feature_names()[:10])\n",
    "print('='*50)\n",
    "\n",
    "final_bigram_counts = count_vect2.transform(X_train2)\n",
    "\n",
    "print(\"the type of count vectorizer \",type(final_bigram_counts))\n",
    "print(\"the shape of out text BOW vectorizer \",final_bigram_counts.get_shape())\n",
    "print(\"the number of unique words including both unigrams and bigrams \", final_bigram_counts.get_shape()[1])\n",
    "\n",
    "final_bigram_countsCV = count_vect2.transform(X_CV)\n",
    "final_bigram_countsTEST = count_vect2.transform(X_test)"
   ]
  },
  {
   "cell_type": "markdown",
   "metadata": {
    "colab_type": "text",
    "id": "-cEEpDx0LPoZ"
   },
   "source": [
    "## [4.3] TF-IDF"
   ]
  },
  {
   "cell_type": "code",
   "execution_count": 306,
   "metadata": {
    "colab": {},
    "colab_type": "code",
    "id": "TgP61HqBLPoa",
    "outputId": "15f1c123-d93b-414d-914b-d4e3f32a6ac1"
   },
   "outputs": [
    {
     "name": "stdout",
     "output_type": "stream",
     "text": [
      "some sample features(unique words in the corpus) ['abdominal', 'ability', 'able', 'able buy', 'able drink', 'able eat', 'able enjoy', 'able find', 'able finish', 'able get']\n",
      "==================================================\n",
      "the type of count vectorizer  <class 'scipy.sparse.csr.csr_matrix'>\n",
      "the shape of out text TFIDF vectorizer  (43008, 24875)\n",
      "the number of unique words including both unigrams and bigrams  24875\n"
     ]
    }
   ],
   "source": [
    "tf_idf_vect = TfidfVectorizer(ngram_range=(1,2), min_df=10)\n",
    "tf_idf_vect.fit(X_train2)\n",
    "print(\"some sample features(unique words in the corpus)\",tf_idf_vect.get_feature_names()[0:10])\n",
    "print('='*50)\n",
    "\n",
    "features_tf_idf = tf_idf_vect.get_feature_names()\n",
    "\n",
    "final_tf_idf = tf_idf_vect.transform(X_train2)\n",
    "print(\"the type of count vectorizer \",type(final_tf_idf))\n",
    "print(\"the shape of out text TFIDF vectorizer \",final_tf_idf.get_shape())\n",
    "print(\"the number of unique words including both unigrams and bigrams \", final_tf_idf.get_shape()[1])\n",
    "\n",
    "final_tf_idfCV = tf_idf_vect.transform(X_CV)\n",
    "final_tf_idfTEST = tf_idf_vect.transform(X_test)"
   ]
  },
  {
   "cell_type": "markdown",
   "metadata": {
    "colab_type": "text",
    "id": "m3YEHTLPLPod"
   },
   "source": [
    "## [4.4] Word2Vec"
   ]
  },
  {
   "cell_type": "code",
   "execution_count": 307,
   "metadata": {},
   "outputs": [],
   "source": [
    "# Train your own Word2Vec model using your own text corpus\n",
    "i=0\n",
    "list_of_sentence_train=[]\n",
    "for sentence in X_train2:\n",
    "    list_of_sentence_train.append(sentence.split())"
   ]
  },
  {
   "cell_type": "code",
   "execution_count": 308,
   "metadata": {},
   "outputs": [
    {
     "name": "stdout",
     "output_type": "stream",
     "text": [
      "number of words that occured minimum 5 times  12442\n",
      "sample words  ['dogs', 'loves', 'chicken', 'product', 'china', 'wont', 'buying', 'anymore', 'hard', 'find', 'products', 'made', 'usa', 'one', 'isnt', 'bad', 'good', 'take', 'chances', 'till', 'know', 'going', 'imports', 'love', 'saw', 'pet', 'store', 'tag', 'attached', 'regarding', 'satisfied', 'safe', 'infestation', 'literally', 'everywhere', 'flying', 'around', 'kitchen', 'bought', 'hoping', 'least', 'get', 'rid', 'weeks', 'fly', 'stuck', 'buggers', 'success', 'rate', 'day']\n"
     ]
    }
   ],
   "source": [
    "from gensim.models import Word2Vec\n",
    "from gensim.models import KeyedVectors\n",
    "\n",
    "w2v_model=Word2Vec(list_of_sentence_train,min_count=5,size=50, workers=4)\n",
    "w2v_words = list(w2v_model.wv.vocab)\n",
    "print(\"number of words that occured minimum 5 times \",len(w2v_words))\n",
    "print(\"sample words \", w2v_words[0:50])"
   ]
  },
  {
   "cell_type": "markdown",
   "metadata": {
    "colab_type": "text",
    "id": "TtWqibqfLPos"
   },
   "source": [
    "## [4.4.1] Converting text into vectors using Avg W2V, TFIDF-W2V"
   ]
  },
  {
   "cell_type": "markdown",
   "metadata": {
    "colab_type": "text",
    "id": "JriP5nZCLPot"
   },
   "source": [
    "#### [4.4.1.1] Avg W2v"
   ]
  },
  {
   "cell_type": "markdown",
   "metadata": {},
   "source": [
    "#  Converting Train data text"
   ]
  },
  {
   "cell_type": "code",
   "execution_count": 309,
   "metadata": {
    "colab": {},
    "colab_type": "code",
    "id": "UnXI9NHTLPot",
    "outputId": "ecbe8256-9718-4bad-de33-e5ce1ee69038"
   },
   "outputs": [
    {
     "name": "stderr",
     "output_type": "stream",
     "text": [
      "100%|███████████████████████████████████████████████████████████████████████████| 43008/43008 [01:33<00:00, 462.18it/s]\n"
     ]
    },
    {
     "name": "stdout",
     "output_type": "stream",
     "text": [
      "(43008, 50)\n",
      "[-0.39133864  0.55263728  0.28874528 -0.25550993 -0.06088339 -0.6164806\n",
      " -0.21879564  1.04991286 -0.31347888  0.24922325 -0.64111702  0.13859355\n",
      "  0.09690912  0.06331047  0.63735569 -0.42099862  0.26326944  0.76809363\n",
      " -0.24261065 -0.13325587 -0.34936061  0.2290425  -0.19650718  0.7991849\n",
      "  0.37587467  0.44628108  0.38393394 -0.26650817 -0.3328966   0.25352922\n",
      "  0.00889189 -0.01313225  0.05325747  0.45515439  0.06764127 -0.61015888\n",
      "  0.15726464 -0.73799552 -0.3213911   0.96917496  0.20371024  0.27100417\n",
      "  0.33530955 -0.57520408  0.40929473 -0.45530047 -1.01778779 -0.82428969\n",
      "  0.11969408  0.00271046]\n"
     ]
    }
   ],
   "source": [
    "# average Word2Vec\n",
    "# compute average word2vec for each review.\n",
    "sent_vectors_train = []; # the avg-w2v for each sentence/review is stored in this list\n",
    "for sent in tqdm(list_of_sentence_train): # for each review/sentence\n",
    "    sent_vec = np.zeros(50) # as word vectors are of zero length 50, you might need to change this to 300 if you use google's w2v\n",
    "    cnt_words =0; # num of words with a valid vector in the sentence/review\n",
    "    for word in sent: # for each word in a review/sentence\n",
    "        if word in w2v_words:\n",
    "            vec = w2v_model.wv[word]\n",
    "            sent_vec += vec\n",
    "            cnt_words += 1\n",
    "    if cnt_words != 0:\n",
    "        sent_vec /= cnt_words\n",
    "    sent_vectors_train.append(sent_vec)\n",
    "sent_vectors_train = np.array(sent_vectors_train)\n",
    "print(sent_vectors_train.shape)\n",
    "print(sent_vectors_train[0])"
   ]
  },
  {
   "cell_type": "markdown",
   "metadata": {},
   "source": [
    "# ### Converting CV data text"
   ]
  },
  {
   "cell_type": "code",
   "execution_count": 310,
   "metadata": {},
   "outputs": [
    {
     "name": "stderr",
     "output_type": "stream",
     "text": [
      "100%|███████████████████████████████████████████████████████████████████████████| 18433/18433 [00:42<00:00, 431.95it/s]\n"
     ]
    },
    {
     "name": "stdout",
     "output_type": "stream",
     "text": [
      "(18433, 50)\n",
      "[-2.63933516e-02 -1.28005787e+00  1.20813316e-02 -1.83735513e-01\n",
      "  2.03166641e-02 -1.06850412e+00 -1.18400540e+00 -4.88664906e-01\n",
      "  3.34206592e-01 -9.09020385e-01  7.73937472e-01 -4.91207178e-01\n",
      "  4.93615807e-01  3.58841701e-01 -6.96271021e-01  2.96421821e-01\n",
      " -1.88636600e-01  6.77189998e-01 -9.86931958e-01  4.05644085e-01\n",
      " -7.43328871e-01  7.34000867e-01 -1.32761338e+00  3.20186147e-01\n",
      "  1.22765924e+00  1.83398409e-01 -4.22884289e-01  4.37754916e-01\n",
      "  5.87754156e-01 -1.85763510e+00 -6.81763273e-02 -4.19936757e-01\n",
      " -7.81100733e-01 -9.35069584e-01 -4.11027086e-01  8.02171053e-02\n",
      "  2.15059392e-01  6.62756825e-01 -1.72195584e-03  8.52666002e-01\n",
      "  4.68276941e-01  1.66118727e-01  5.21739815e-01 -2.52294266e-02\n",
      "  8.89742789e-02 -3.69323724e-01 -6.17392757e-01 -7.33574548e-01\n",
      "  3.69941217e-01  1.67685303e-01]\n"
     ]
    }
   ],
   "source": [
    "i=0\n",
    "list_of_sentence_cv=[]\n",
    "for sentence in X_CV:\n",
    "    list_of_sentence_cv.append(sentence.split())\n",
    "\n",
    "# average Word2Vec\n",
    "# compute average word2vec for each review.\n",
    "sent_vectors_cv = []; # the avg-w2v for each sentence/review is stored in this list\n",
    "for sent in tqdm(list_of_sentence_cv): # for each review/sentence\n",
    "    sent_vec = np.zeros(50) # as word vectors are of zero length 50, you might need to change this to 300 if you use google's w2v\n",
    "    cnt_words =0; # num of words with a valid vector in the sentence/review\n",
    "    for word in sent: # for each word in a review/sentence\n",
    "        if word in w2v_words:\n",
    "            vec = w2v_model.wv[word]\n",
    "            sent_vec += vec\n",
    "            cnt_words += 1\n",
    "    if cnt_words != 0:\n",
    "        sent_vec /= cnt_words\n",
    "    sent_vectors_cv.append(sent_vec)\n",
    "sent_vectors_cv = np.array(sent_vectors_cv)\n",
    "print(sent_vectors_cv.shape)\n",
    "print(sent_vectors_cv[0])"
   ]
  },
  {
   "cell_type": "markdown",
   "metadata": {},
   "source": [
    "# Converting Test data text"
   ]
  },
  {
   "cell_type": "code",
   "execution_count": 311,
   "metadata": {},
   "outputs": [
    {
     "name": "stderr",
     "output_type": "stream",
     "text": [
      "100%|███████████████████████████████████████████████████████████████████████████| 26332/26332 [01:02<00:00, 418.07it/s]\n"
     ]
    },
    {
     "name": "stdout",
     "output_type": "stream",
     "text": [
      "(26332, 50)\n",
      "[-0.30684007  0.57278509  0.80906981  0.3271377   0.16455421 -1.82297001\n",
      "  0.90163168  1.18598167  0.29724558  0.43784644  0.00753306  0.46952072\n",
      "  0.736512    1.30084812  0.14433395 -0.22359537  0.13024589 -0.16678509\n",
      " -0.49315941  0.36696722 -1.23321886  1.06304763  0.33094535  1.14410553\n",
      "  0.71923554  0.28452318 -0.41658925 -0.57907648 -0.78351411 -1.18119167\n",
      "  0.32275283 -0.28501334  0.92763601  0.80701925  0.40664707 -1.92608179\n",
      "  0.31072296  0.16267549 -0.27466978  1.31643019 -0.07630782  0.73415931\n",
      "  0.4991471  -1.2158271   1.25535119  0.04220773 -0.06171494 -0.45876109\n",
      " -0.41747431 -1.24893588]\n"
     ]
    }
   ],
   "source": [
    "i=0\n",
    "list_of_sentence_test=[]\n",
    "for sentence in X_test:\n",
    "    list_of_sentence_test.append(sentence.split())\n",
    "\n",
    "# average Word2Vec\n",
    "# compute average word2vec for each review.\n",
    "sent_vectors_test = []; # the avg-w2v for each sentence/review is stored in this list\n",
    "for sent in tqdm(list_of_sentence_test): # for each review/sentence\n",
    "    sent_vec = np.zeros(50) # as word vectors are of zero length 50, you might need to change this to 300 if you use google's w2v\n",
    "    cnt_words =0; # num of words with a valid vector in the sentence/review\n",
    "    for word in sent: # for each word in a review/sentence\n",
    "        if word in w2v_words:\n",
    "            vec = w2v_model.wv[word]\n",
    "            sent_vec += vec\n",
    "            cnt_words += 1\n",
    "    if cnt_words != 0:\n",
    "        sent_vec /= cnt_words\n",
    "    sent_vectors_test.append(sent_vec)\n",
    "sent_vectors_test = np.array(sent_vectors_test)\n",
    "print(sent_vectors_test.shape)\n",
    "print(sent_vectors_test[0])"
   ]
  },
  {
   "cell_type": "markdown",
   "metadata": {
    "colab_type": "text",
    "id": "2sHfb529LPow"
   },
   "source": [
    "#### [4.4.1.2] TFIDF weighted W2v"
   ]
  },
  {
   "cell_type": "code",
   "execution_count": 312,
   "metadata": {
    "colab": {},
    "colab_type": "code",
    "id": "sb_wDjAqLPow"
   },
   "outputs": [],
   "source": [
    "# S = [\"abc def pqr\", \"def def def abc\", \"pqr pqr def\"]\n",
    "model_tf = TfidfVectorizer()\n",
    "tf_idf_matrix = model_tf.fit_transform(X_train2)\n",
    "# we are converting a dictionary with word as a key, and the idf as a value\n",
    "dictionary = dict(zip(model_tf.get_feature_names(), list(model_tf.idf_)))"
   ]
  },
  {
   "cell_type": "markdown",
   "metadata": {},
   "source": [
    "# Calculating TFIDF weighted W2V for training data"
   ]
  },
  {
   "cell_type": "code",
   "execution_count": 313,
   "metadata": {},
   "outputs": [
    {
     "name": "stderr",
     "output_type": "stream",
     "text": [
      "100%|████████████████████████████████████████████████████████████████████████████| 43008/43008 [12:59<00:00, 55.20it/s]\n"
     ]
    }
   ],
   "source": [
    "# TF-IDF weighted Word2Vec\n",
    "tfidf_feat = model_tf.get_feature_names() # tfidf words/col-names\n",
    "# final_tf_idf is the sparse matrix with row= sentence, col=word and cell_val = tfidf\n",
    "\n",
    "tfidf_sent_vectors_train = []; # the tfidf-w2v for each sentence/review is stored in this list\n",
    "row=0;\n",
    "for sent in tqdm(list_of_sentence_train): # for each review/sentence \n",
    "    sent_vec = np.zeros(50) # as word vectors are of zero length\n",
    "    weight_sum =0; # num of words with a valid vector in the sentence/review\n",
    "    for word in sent: # for each word in a review/sentence\n",
    "        if word in w2v_words and word in tfidf_feat:\n",
    "            vec = w2v_model.wv[word]\n",
    "#             tf_idf = tf_idf_matrix[row, tfidf_feat.index(word)]\n",
    "            # to reduce the computation we are \n",
    "            # dictionary[word] = idf value of word in whole courpus\n",
    "            # sent.count(word) = tf valeus of word in this review\n",
    "            tf_idf = dictionary[word]*(sent.count(word)/len(sent))\n",
    "            sent_vec += (vec * tf_idf)\n",
    "            weight_sum += tf_idf\n",
    "    if weight_sum != 0:\n",
    "        sent_vec /= weight_sum\n",
    "    tfidf_sent_vectors_train.append(sent_vec)\n",
    "    row += 1"
   ]
  },
  {
   "cell_type": "markdown",
   "metadata": {},
   "source": [
    "# # Calculating TFIDF weighted W2V for CV data"
   ]
  },
  {
   "cell_type": "code",
   "execution_count": 314,
   "metadata": {},
   "outputs": [
    {
     "name": "stderr",
     "output_type": "stream",
     "text": [
      "100%|████████████████████████████████████████████████████████████████████████████| 18433/18433 [05:14<00:00, 45.77it/s]\n"
     ]
    }
   ],
   "source": [
    "\n",
    "tfidf_sent_vectors_CV = []; # the tfidf-w2v for each sentence/review is stored in this list\n",
    "row=0;\n",
    "for sent in tqdm(list_of_sentence_cv): # for each review/sentence \n",
    "    sent_vec = np.zeros(50) # as word vectors are of zero length\n",
    "    weight_sum =0; # num of words with a valid vector in the sentence/review\n",
    "    for word in sent: # for each word in a review/sentence\n",
    "        if word in w2v_words and word in tfidf_feat:\n",
    "            vec = w2v_model.wv[word]\n",
    "#             tf_idf = tf_idf_matrix[row, tfidf_feat.index(word)]\n",
    "            # to reduce the computation we are \n",
    "            # dictionary[word] = idf value of word in whole courpus\n",
    "            # sent.count(word) = tf valeus of word in this review\n",
    "            tf_idf = dictionary[word]*(sent.count(word)/len(sent))\n",
    "            sent_vec += (vec * tf_idf)\n",
    "            weight_sum += tf_idf\n",
    "    if weight_sum != 0:\n",
    "        sent_vec /= weight_sum\n",
    "    tfidf_sent_vectors_CV.append(sent_vec)\n",
    "    row += 1"
   ]
  },
  {
   "cell_type": "markdown",
   "metadata": {},
   "source": [
    "# Calculating TFIDF weighted W2V for test data"
   ]
  },
  {
   "cell_type": "code",
   "execution_count": 315,
   "metadata": {},
   "outputs": [
    {
     "name": "stderr",
     "output_type": "stream",
     "text": [
      "100%|████████████████████████████████████████████████████████████████████████████| 26332/26332 [07:54<00:00, 55.52it/s]\n"
     ]
    }
   ],
   "source": [
    "tfidf_sent_vectors_test = []; # the tfidf-w2v for each sentence/review is stored in this list\n",
    "row=0;\n",
    "for sent in tqdm(list_of_sentence_test): # for each review/sentence \n",
    "    sent_vec = np.zeros(50) # as word vectors are of zero length\n",
    "    weight_sum =0; # num of words with a valid vector in the sentence/review\n",
    "    for word in sent: # for each word in a review/sentence\n",
    "        if word in w2v_words and word in tfidf_feat:\n",
    "            vec = w2v_model.wv[word]\n",
    "#             tf_idf = tf_idf_matrix[row, tfidf_feat.index(word)]\n",
    "            # to reduce the computation we are \n",
    "            # dictionary[word] = idf value of word in whole courpus\n",
    "            # sent.count(word) = tf valeus of word in this review\n",
    "            tf_idf = dictionary[word]*(sent.count(word)/len(sent))\n",
    "            sent_vec += (vec * tf_idf)\n",
    "            weight_sum += tf_idf\n",
    "    if weight_sum != 0:\n",
    "        sent_vec /= weight_sum\n",
    "    tfidf_sent_vectors_test.append(sent_vec)\n",
    "    row += 1"
   ]
  },
  {
   "cell_type": "code",
   "execution_count": 316,
   "metadata": {},
   "outputs": [],
   "source": [
    "tfidf_sent_vectors_train = np.array(tfidf_sent_vectors_train)\n",
    "tfidf_sent_vectors_CV = np.array(tfidf_sent_vectors_CV)\n",
    "tfidf_sent_vectors_test = np.array(tfidf_sent_vectors_test)"
   ]
  },
  {
   "cell_type": "markdown",
   "metadata": {
    "colab_type": "text",
    "id": "Kxx72u1hLPo1"
   },
   "source": [
    "# [5] Assignment 5: Apply Logistic Regression"
   ]
  },
  {
   "cell_type": "markdown",
   "metadata": {
    "colab_type": "text",
    "id": "KDR9We0oLPo2"
   },
   "source": [
    "<ol>\n",
    "    <li><strong>Apply Logistic Regression on these feature sets</strong>\n",
    "        <ul>\n",
    "            <li><font color='red'>SET 1:</font>Review text, preprocessed one converted into vectors using (BOW)</li>\n",
    "            <li><font color='red'>SET 2:</font>Review text, preprocessed one converted into vectors using (TFIDF)</li>\n",
    "            <li><font color='red'>SET 3:</font>Review text, preprocessed one converted into vectors using (AVG W2v)</li>\n",
    "            <li><font color='red'>SET 4:</font>Review text, preprocessed one converted into vectors using (TFIDF W2v)</li>\n",
    "        </ul>\n",
    "    </li>\n",
    "    <br>\n",
    "    <li><strong>Hyper paramter tuning (find best hyper parameters corresponding the algorithm that you choose)</strong>\n",
    "        <ul>\n",
    "    <li>Find the best hyper parameter which will give the maximum <a href='https://www.appliedaicourse.com/course/applied-ai-course-online/lessons/receiver-operating-characteristic-curve-roc-curve-and-auc-1/'>AUC</a> value</li>\n",
    "    <li>Find the best hyper paramter using k-fold cross validation or simple cross validation data</li>\n",
    "    <li>Use gridsearch cv or randomsearch cv or you can also write your own for loops to do this task of hyperparameter tuning</li>          \n",
    "        </ul>\n",
    "    </li>\n",
    "    <br>\n",
    "    <li><strong>Pertubation Test</strong>\n",
    "        <ul>\n",
    "    <li>Get the weights W after fit your model with the data X i.e Train data.</li>\n",
    "    <li>Add a noise to the X (X' = X + e) and get the new data set X' (if X is a sparse\n",
    "matrix, X.data+=e)</li>\n",
    "    <li>Fit the model again on data X' and get the weights W'</li>\n",
    "    <li>Add a small eps value(to eliminate the divisible by zero error) to W and W’ i.e\n",
    "W=W+10^-6 and W’ = W’+10^-6</li>\n",
    "    <li>Now find the % change between W and W' (| (W-W') / (W) |)*100)</li>\n",
    "    <li>Calculate the 0th, 10th, 20th, 30th, ...100th percentiles, and observe any sudden rise in the values of percentage_change_vector</li>\n",
    "    <li> Ex: consider your 99th percentile is 1.3 and your 100th percentiles are 34.6, there is sudden rise from 1.3 to 34.6, now calculate the 99.1, 99.2, 99.3,..., 100th percentile values and get the proper value after which there is sudden rise the values, assume it is 2.5</li>\n",
    "            <li> Print the feature names whose % change is more than a threshold x(in our example it's 2.5)</li>\n",
    "        </ul>\n",
    "    </li>\n",
    "    <br>\n",
    "    <li><strong>Sparsity</strong>\n",
    "        <ul>\n",
    "    <li>Calculate sparsity on weight vector obtained after using L1 regularization</li>\n",
    "        </ul>\n",
    "    </li>\n",
    "    <br><font color='red'>NOTE: Do sparsity and multicollinearity for any one of the vectorizers. Bow or tf-idf is recommended.</font>\n",
    "    <br>\n",
    "    <br>\n",
    "    <li><strong>Feature importance</strong>\n",
    "        <ul>\n",
    "    <li>Get top 10 important features for both positive and negative classes separately.</li>\n",
    "        </ul>\n",
    "    </li>\n",
    "    <br>\n",
    "    <li><strong>Feature engineering</strong>\n",
    "        <ul>\n",
    "    <li>To increase the performance of your model, you can also experiment with with feature engineering like :</li>\n",
    "            <ul>\n",
    "            <li>Taking length of reviews as another feature.</li>\n",
    "            <li>Considering some features from review summary as well.</li>\n",
    "        </ul>\n",
    "        </ul>\n",
    "    </li>\n",
    "    <br>\n",
    "    <li><strong>Representation of results</strong>\n",
    "        <ul>\n",
    "    <li>You need to plot the performance of model both on train data and cross validation data for each hyper parameter, like shown in the figure.\n",
    "    <img src='train_cv_auc.JPG' width=300px></li>\n",
    "    <li>Once after you found the best hyper parameter, you need to train your model with it, and find the AUC on test data and plot the ROC curve on both train and test.\n",
    "    <img src='train_test_auc.JPG' width=300px></li>\n",
    "    <li>Along with plotting ROC curve, you need to print the <a href='https://www.appliedaicourse.com/course/applied-ai-course-online/lessons/confusion-matrix-tpr-fpr-fnr-tnr-1/'>confusion matrix</a> with predicted and original labels of test data points. Please visualize your confusion matrices using <a href='https://seaborn.pydata.org/generated/seaborn.heatmap.html'>seaborn heatmaps.\n",
    "    <img src='confusion_matrix.png' width=300px></li>\n",
    "        </ul>\n",
    "    </li>\n",
    "    <br>\n",
    "    <li><strong>Conclusion</strong>\n",
    "        <ul>\n",
    "    <li>You need to summarize the results at the end of the notebook, summarize it in the table format. To print out a table please refer to this prettytable library<a href='http://zetcode.com/python/prettytable/'>  link</a> \n",
    "        <img src='summary.JPG' width=400px>\n",
    "    </li>\n",
    "        </ul>\n",
    "</ol>"
   ]
  },
  {
   "cell_type": "markdown",
   "metadata": {
    "colab_type": "text",
    "id": "gilb-DOVLPo2"
   },
   "source": [
    "<h4><font color='red'>Note: Data Leakage</font></h4>\n",
    "\n",
    "1. There will be an issue of data-leakage if you vectorize the entire data and then split it into train/cv/test.\n",
    "2. To avoid the issue of data-leakag, make sure to split your data first and then vectorize it. \n",
    "3. While vectorizing your data, apply the method fit_transform() on you train data, and apply the method transform() on cv/test data.\n",
    "4. For more details please go through this <a href='https://soundcloud.com/applied-ai-course/leakage-bow-and-tfidf'>link.</a>"
   ]
  },
  {
   "cell_type": "markdown",
   "metadata": {
    "colab_type": "text",
    "id": "jiYocvSHLPo4"
   },
   "source": [
    "# Applying Logistic Regression"
   ]
  },
  {
   "cell_type": "markdown",
   "metadata": {
    "colab_type": "text",
    "id": "LE_XPVZJLPo4"
   },
   "source": [
    "## [5.1] Logistic Regression on BOW,<font color='red'> SET 1</font>"
   ]
  },
  {
   "cell_type": "markdown",
   "metadata": {
    "colab_type": "text",
    "id": "_iciJvj2LPo4"
   },
   "source": [
    "### [5.1.1] Applying Logistic Regression with L1 regularization on BOW,<font color='red'> SET 1</font>"
   ]
  },
  {
   "cell_type": "code",
   "execution_count": 317,
   "metadata": {
    "colab": {},
    "colab_type": "code",
    "id": "MyOVi-xYLPo5"
   },
   "outputs": [
    {
     "data": {
      "text/plain": [
       "RandomizedSearchCV(cv=10, error_score='raise-deprecating',\n",
       "          estimator=LogisticRegression(C=1.0, class_weight=None, dual=False, fit_intercept=True,\n",
       "          intercept_scaling=1, max_iter=100, multi_class='warn',\n",
       "          n_jobs=None, penalty='l1', random_state=None, solver='warn',\n",
       "          tol=0.0001, verbose=0, warm_start=False),\n",
       "          fit_params=None, iid='warn', n_iter=10, n_jobs=None,\n",
       "          param_distributions={'C': [0.0001, 0.01, 1, 100, 10000]},\n",
       "          pre_dispatch='2*n_jobs', random_state=100, refit=True,\n",
       "          return_train_score='warn', scoring='roc_auc', verbose=0)"
      ]
     },
     "execution_count": 317,
     "metadata": {},
     "output_type": "execute_result"
    }
   ],
   "source": [
    "# Please write all the code with proper documentation\n",
    "from sklearn.model_selection import RandomizedSearchCV\n",
    "from sklearn.linear_model import LogisticRegression\n",
    "\n",
    "hyperparameters = {'C':[10**-4,10**-2,10**0,10**2,10**4]}\n",
    "model = LogisticRegression(penalty='l1')\n",
    "\n",
    "clf_LR_L1 = RandomizedSearchCV(model,param_distributions=hyperparameters,scoring='roc_auc',cv=10,random_state=100)\n",
    "clf_LR_L1.fit(final_counts,y_train2)"
   ]
  },
  {
   "cell_type": "code",
   "execution_count": 318,
   "metadata": {},
   "outputs": [
    {
     "data": {
      "text/plain": [
       "array([0.5       , 0.85798402, 0.92376823, 0.8745775 , 0.84507966])"
      ]
     },
     "execution_count": 318,
     "metadata": {},
     "output_type": "execute_result"
    }
   ],
   "source": [
    "clf_LR_L1.cv_results_['mean_test_score']"
   ]
  },
  {
   "cell_type": "code",
   "execution_count": 319,
   "metadata": {},
   "outputs": [
    {
     "name": "stdout",
     "output_type": "stream",
     "text": [
      "best_auc_score_bow_l1  0.9237682265991458\n",
      "optimal_C_bow_l1  1\n"
     ]
    }
   ],
   "source": [
    "AUC_bow_train = clf_LR_L1.cv_results_['mean_test_score']\n",
    "best_auc_score_bow_l1 = clf_LR_L1.best_score_\n",
    "optimal_C_bow_l1 = clf_LR_L1.best_params_['C']\n",
    "\n",
    "print('best_auc_score_bow_l1 ',best_auc_score_bow_l1)\n",
    "print('optimal_C_bow_l1 ',optimal_C_bow_l1)"
   ]
  },
  {
   "cell_type": "code",
   "execution_count": 320,
   "metadata": {},
   "outputs": [],
   "source": [
    "#finding auc scores for our CV data for validation\n",
    "AUC_bow_CV_l1 = []\n",
    "for x in hyperparameters['C']:\n",
    "    model = LogisticRegression(penalty='l1',C=x)\n",
    "    model.fit(final_counts,y_train2)\n",
    "    y_pred = model.predict_proba(final_countsCV)[:,1]\n",
    "    AUC_bow_CV_l1.append(metrics.roc_auc_score(y_CV,y_pred))\n",
    "    "
   ]
  },
  {
   "cell_type": "code",
   "execution_count": 321,
   "metadata": {},
   "outputs": [
    {
     "data": {
      "text/plain": [
       "Text(0,0.5,'AUC values')"
      ]
     },
     "execution_count": 321,
     "metadata": {},
     "output_type": "execute_result"
    },
    {
     "data": {
      "image/png": "[encoded data removed]",
      "text/plain": [
       "<Figure size 432x288 with 1 Axes>"
      ]
     },
     "metadata": {
      "needs_background": "light"
     },
     "output_type": "display_data"
    }
   ],
   "source": [
    "#plotting ROC curve for train and CV data\n",
    "plt.plot(hyperparameters['C'],AUC_bow_train,label='Train AUC values')\n",
    "plt.plot(hyperparameters['C'],AUC_bow_CV_l1,label='CV AUC values')\n",
    "plt.legend()\n",
    "plt.xlabel('Hyperparameter - C')\n",
    "plt.ylabel('AUC values')"
   ]
  },
  {
   "cell_type": "markdown",
   "metadata": {},
   "source": [
    "Observation : Our model is performing well when tested with CV data,so we can go ahead with considering best value of C as optimal_C_bow_l1  "
   ]
  },
  {
   "cell_type": "code",
   "execution_count": 322,
   "metadata": {},
   "outputs": [],
   "source": [
    "#As we have selected our best parameter,so finding auc scores for our test data to shown the results\n",
    "AUC_bow_test_l1 = []\n",
    "for x in hyperparameters['C']:\n",
    "    model = LogisticRegression(penalty='l1',C=x)\n",
    "    model.fit(final_counts,y_train2)\n",
    "    y_pred = model.predict_proba(final_countsTEST)[:,1]\n",
    "    AUC_bow_test_l1.append(metrics.roc_auc_score(y_test,y_pred))"
   ]
  },
  {
   "cell_type": "code",
   "execution_count": 323,
   "metadata": {},
   "outputs": [
    {
     "data": {
      "text/plain": [
       "Text(0,0.5,'AUC values')"
      ]
     },
     "execution_count": 323,
     "metadata": {},
     "output_type": "execute_result"
    },
    {
     "data": {
      "image/png": "[encoded data removed]",
      "text/plain": [
       "<Figure size 432x288 with 1 Axes>"
      ]
     },
     "metadata": {
      "needs_background": "light"
     },
     "output_type": "display_data"
    }
   ],
   "source": [
    "#plotting ROC curve for train and test data\n",
    "plt.plot(hyperparameters['C'],AUC_bow_train,label='Train AUC values')\n",
    "plt.plot(hyperparameters['C'],AUC_bow_test_l1,label='Test AUC values')\n",
    "plt.legend()\n",
    "plt.xlabel('Hyperparameter - C')\n",
    "plt.ylabel('AUC values')"
   ]
  },
  {
   "cell_type": "code",
   "execution_count": 324,
   "metadata": {},
   "outputs": [
    {
     "name": "stdout",
     "output_type": "stream",
     "text": [
      "[8.216660833041653, 9.108253358925143, 9.60918614020951, 9.858556701030928, 9.953410981697171, 9.583601286173634, 9.008361839604714, 7.54380272550292, 5.251661918328585, 0.20766831773986424]\n",
      "0.5\n"
     ]
    },
    {
     "data": {
      "text/plain": [
       "<matplotlib.axes._subplots.AxesSubplot at 0x2032aa82550>"
      ]
     },
     "execution_count": 324,
     "metadata": {},
     "output_type": "execute_result"
    },
    {
     "data": {
      "image/png": "[encoded data removed]",
      "text/plain": [
       "<Figure size 432x288 with 2 Axes>"
      ]
     },
     "metadata": {
      "needs_background": "light"
     },
     "output_type": "display_data"
    }
   ],
   "source": [
    "from sklearn.preprocessing import binarize\n",
    "final_model_bow_l1 = LogisticRegression(penalty='l1',C=optimal_C_bow_l1)\n",
    "final_model_bow_l1.fit(final_counts,y_train2)\n",
    "y_pred_bow_l1 = final_model_bow_l1.predict_proba(final_countsTEST)[:,1]\n",
    "\n",
    "#finding the optimal threshold (based on correct prediction vs false prediction ration) for confusion matrix for a class to be classified\n",
    "t = list(np.arange(0.1,1.1,0.1))\n",
    "ratio=[]\n",
    "for x in t:\n",
    "    pred_class = binarize(y_pred_bow_l1.reshape(-1,1),threshold = x)\n",
    "    tn, fp, fn, tp = metrics.confusion_matrix(y_test,pred_class).ravel()\n",
    "    ratio.append((tp+tn)/(fp+fn))\n",
    "print(ratio)\n",
    "optimal_t = t[ratio.index(max(ratio))]\n",
    "print(optimal_t)\n",
    "\n",
    "##plotting confusion matrix for optimal threshold value\n",
    "\n",
    "pred_class = binarize(y_pred_bow_l1.reshape(-1,1),threshold = optimal_t)\n",
    "cm2 = metrics.confusion_matrix(y_test,pred_class)\n",
    "plt.figure()\n",
    "ax2 = plt.subplot()\n",
    "sns.heatmap(cm2,annot=True,ax=ax2,fmt='g')\n"
   ]
  },
  {
   "cell_type": "markdown",
   "metadata": {
    "colab_type": "text",
    "id": "5h4NhywcLPo7"
   },
   "source": [
    "#### [5.1.1.1] Calculating sparsity on weight vector obtained using L1 regularization on BOW,<font color='red'> SET 1</font>"
   ]
  },
  {
   "cell_type": "code",
   "execution_count": 325,
   "metadata": {
    "colab": {},
    "colab_type": "code",
    "id": "-mmdLzUALPo-"
   },
   "outputs": [
    {
     "name": "stdout",
     "output_type": "stream",
     "text": [
      "90.73062654575432\n",
      "3598\n"
     ]
    }
   ],
   "source": [
    "# Please write all the code with proper documentation\n",
    "#using already trained model\n",
    "\n",
    "coef_bow_l1 = final_model_bow_l1.coef_.ravel()\n",
    "sparsity_bow_l1 = np.mean(coef_bow_l1 == 0) * 100\n",
    "\n",
    "print(sparsity_bow_l1)\n",
    "print(np.count_nonzero(final_model_bow_l1.coef_))"
   ]
  },
  {
   "cell_type": "markdown",
   "metadata": {
    "colab_type": "text",
    "id": "aRHMa52qLPpA"
   },
   "source": [
    "### [5.1.2] Applying Logistic Regression with L2 regularization on BOW,<font color='red'> SET 1</font>"
   ]
  },
  {
   "cell_type": "code",
   "execution_count": 326,
   "metadata": {
    "colab": {},
    "colab_type": "code",
    "id": "GBbb9lxlLPpB"
   },
   "outputs": [
    {
     "name": "stdout",
     "output_type": "stream",
     "text": [
      "AUC score for Logistic Regression Model with L2 regularization  [0.67665382 0.92163524 0.92344539 0.88584036 0.87624526]\n",
      "best_auc_score_bow_l2  0.9234453932850831\n",
      "optimal_C_bow_l2  1\n"
     ]
    },
    {
     "data": {
      "text/plain": [
       "Text(0,0.5,'AUC values')"
      ]
     },
     "execution_count": 326,
     "metadata": {},
     "output_type": "execute_result"
    },
    {
     "data": {
      "image/png": "[encoded data removed]",
      "text/plain": [
       "<Figure size 432x288 with 1 Axes>"
      ]
     },
     "metadata": {
      "needs_background": "light"
     },
     "output_type": "display_data"
    }
   ],
   "source": [
    "# Please write all the code with proper documentation\n",
    "\n",
    "hyperparameters = {'C':[10**-4,10**-2,10**0,10**2,10**4]}\n",
    "model = LogisticRegression(penalty='l2')\n",
    "\n",
    "clf_LR_l2 = RandomizedSearchCV(model,param_distributions=hyperparameters,scoring='roc_auc',cv=10,random_state=100)\n",
    "clf_LR_l2.fit(final_counts,y_train2)\n",
    "\n",
    "print('AUC score for Logistic Regression Model with L2 regularization ',clf_LR_l2.cv_results_['mean_test_score'])\n",
    "\n",
    "AUC_bow_train_l2 = clf_LR_l2.cv_results_['mean_test_score']\n",
    "best_auc_score_bow_l2 = clf_LR_l2.best_score_\n",
    "optimal_C_bow_l2 = clf_LR_l2.best_params_['C']\n",
    "\n",
    "print('best_auc_score_bow_l2 ',best_auc_score_bow_l2)\n",
    "print('optimal_C_bow_l2 ',optimal_C_bow_l2)\n",
    "\n",
    "#finding auc scores for our CV data for validation\n",
    "AUC_bow_CV_l2 = []\n",
    "for x in hyperparameters['C']:\n",
    "    model = LogisticRegression(penalty='l2',C=x)\n",
    "    model.fit(final_counts,y_train2)\n",
    "    y_pred = model.predict_proba(final_countsCV)[:,1]\n",
    "    AUC_bow_CV_l2.append(metrics.roc_auc_score(y_CV,y_pred))\n",
    "    \n",
    "\n",
    "#plotting ROC curve for train and CV data\n",
    "plt.plot(hyperparameters['C'],AUC_bow_train_l2,label='Train AUC values')\n",
    "plt.plot(hyperparameters['C'],AUC_bow_CV_l2,label='CV AUC values')\n",
    "plt.legend()\n",
    "plt.xlabel('Hyperparameter - C')\n",
    "plt.ylabel('AUC values')\n",
    "\n",
    "#Observation : Our model is performing well when tested with CV data,so we can go ahead with considering best value of C as optimal_C_bow_l1  \n",
    "\n"
   ]
  },
  {
   "cell_type": "code",
   "execution_count": 327,
   "metadata": {},
   "outputs": [
    {
     "data": {
      "text/plain": [
       "Text(0,0.5,'AUC values')"
      ]
     },
     "execution_count": 327,
     "metadata": {},
     "output_type": "execute_result"
    },
    {
     "data": {
      "image/png": "[encoded data removed]",
      "text/plain": [
       "<Figure size 432x288 with 1 Axes>"
      ]
     },
     "metadata": {
      "needs_background": "light"
     },
     "output_type": "display_data"
    }
   ],
   "source": [
    "#As we have selected our best parameter,so finding auc scores for our test data to shown the results\n",
    "AUC_bow_test_l2 = []\n",
    "for x in hyperparameters['C']:\n",
    "    model = LogisticRegression(penalty='l2',C=x)\n",
    "    model.fit(final_counts,y_train2)\n",
    "    y_pred = model.predict_proba(final_countsTEST)[:,1]\n",
    "    AUC_bow_test_l2.append(metrics.roc_auc_score(y_test,y_pred))\n",
    "\n",
    "#plotting ROC curve for train and test data\n",
    "plt.plot(hyperparameters['C'],AUC_bow_train_l2,label='Train AUC values')\n",
    "plt.plot(hyperparameters['C'],AUC_bow_test_l2,label='Test AUC values')\n",
    "plt.legend()\n",
    "plt.xlabel('Hyperparameter - C')\n",
    "plt.ylabel('AUC values')"
   ]
  },
  {
   "cell_type": "code",
   "execution_count": 328,
   "metadata": {},
   "outputs": [
    {
     "data": {
      "image/png": "[encoded data removed]",
      "text/plain": [
       "<Figure size 432x288 with 1 Axes>"
      ]
     },
     "metadata": {
      "needs_background": "light"
     },
     "output_type": "display_data"
    }
   ],
   "source": [
    "model_l2 = LogisticRegression(penalty='l2',C=optimal_C_bow_l2)\n",
    "model_l2 = model_l2.fit(final_counts,y_train2)\n",
    "\n",
    "y_pred_l2 = model_l2.predict_proba(final_counts)[:,1]\n",
    "fpr,tpr,t = metrics.roc_curve(y_train2,y_pred_l2)\n",
    "\n",
    "y_pred_l22 = model_l2.predict_proba(final_countsTEST)[:,1]\n",
    "fpr2,tpr2,t = metrics.roc_curve(y_test,y_pred_l22)\n",
    "\n",
    "plt.plot(fpr,tpr,label='Train ROC Curve')\n",
    "plt.plot(fpr2,tpr2,label='Test ROC Curve')\n",
    "plt.legend()\n",
    "plt.xlabel('False Positive Rate')\n",
    "plt.ylabel('True Positive Rate')\n",
    "plt.title('ROC curve of train and test data')\n",
    "plt.show()"
   ]
  },
  {
   "cell_type": "code",
   "execution_count": 329,
   "metadata": {},
   "outputs": [
    {
     "name": "stdout",
     "output_type": "stream",
     "text": [
      "optimal_threshold based on ratio  0.4\n"
     ]
    },
    {
     "data": {
      "text/plain": [
       "<matplotlib.axes._subplots.AxesSubplot at 0x20367fe32e8>"
      ]
     },
     "execution_count": 329,
     "metadata": {},
     "output_type": "execute_result"
    },
    {
     "data": {
      "image/png": "[encoded data removed]",
      "text/plain": [
       "<Figure size 432x288 with 2 Axes>"
      ]
     },
     "metadata": {
      "needs_background": "light"
     },
     "output_type": "display_data"
    }
   ],
   "source": [
    "from sklearn.preprocessing import binarize\n",
    "final_model_bow_l2 = LogisticRegression(penalty='l2',C=optimal_C_bow_l2)\n",
    "final_model_bow_l2.fit(final_counts,y_train2)\n",
    "y_pred_bow_l2 = final_model_bow_l2.predict_proba(final_countsTEST)[:,1]\n",
    "\n",
    "#finding the optimal threshold (based on correct prediction vs false prediction ration) for confusion matrix for a class to be classified\n",
    "t = list(np.arange(0.1,1.1,0.1))\n",
    "ratio=[]\n",
    "for x in t:\n",
    "    pred_class = binarize(y_pred_bow_l2.reshape(-1,1),threshold = x)\n",
    "    tn, fp, fn, tp = metrics.confusion_matrix(y_test,pred_class).ravel()\n",
    "    ratio.append((tp+tn)/(fp+fn))\n",
    "#print(ratio)\n",
    "optimal_t = t[ratio.index(max(ratio))]\n",
    "print('optimal_threshold based on ratio ',optimal_t)\n",
    "\n",
    "##plotting confusion matrix for optimal threshold value\n",
    "\n",
    "pred_class = binarize(y_pred_bow_l2.reshape(-1,1),threshold = optimal_t)\n",
    "cm2 = metrics.confusion_matrix(y_test,pred_class)\n",
    "plt.figure()\n",
    "ax2 = plt.subplot()\n",
    "sns.heatmap(cm2,annot=True,ax=ax2,fmt='g')\n"
   ]
  },
  {
   "cell_type": "code",
   "execution_count": 330,
   "metadata": {},
   "outputs": [
    {
     "name": "stdout",
     "output_type": "stream",
     "text": [
      "sparsity_bow_l2  0.0\n",
      "Number of non zero entries which indicates sparsity  38816\n"
     ]
    }
   ],
   "source": [
    "#Calculating sparsity on weight vector obtained using L2 regularization on BOW\n",
    "#using already trained model\n",
    "\n",
    "coef_bow_l2 = final_model_bow_l2.coef_.ravel()\n",
    "sparsity_bow_l2 = np.mean(coef_bow_l2 == 0) * 100\n",
    "\n",
    "print('sparsity_bow_l2 ',sparsity_bow_l2)\n",
    "print('Number of non zero entries which indicates sparsity ',np.count_nonzero(final_model_bow_l2.coef_))"
   ]
  },
  {
   "cell_type": "markdown",
   "metadata": {},
   "source": [
    "OBSERVATION : We see that using l2 penalty the sparsity gets reduced dramatically as compared to l1"
   ]
  },
  {
   "cell_type": "markdown",
   "metadata": {
    "colab_type": "text",
    "id": "UaJkugTKLPpE"
   },
   "source": [
    "#### [5.1.2.1] Performing pertubation test (multicollinearity check) on BOW,<font color='red'> SET 1</font>"
   ]
  },
  {
   "cell_type": "code",
   "execution_count": 331,
   "metadata": {
    "colab": {},
    "colab_type": "code",
    "id": "E1c5B1nELPpF"
   },
   "outputs": [
    {
     "name": "stdout",
     "output_type": "stream",
     "text": [
      "(43008, 38816)\n"
     ]
    }
   ],
   "source": [
    "# Please write all the code with proper documentation\n",
    "coef_before_l2 = final_model_bow_l2.coef_\n",
    "\n",
    "#generating and adding small noise to the data and calculating weights again\n",
    "\n",
    "e = np.random.normal(loc=0,scale=0.00000001,size=final_counts.data.shape)\n",
    "X_noisy_l2 = final_counts\n",
    "X_noisy_l2.data = final_counts.data + e\n",
    "\n",
    "print(X_noisy_l2.shape)"
   ]
  },
  {
   "cell_type": "code",
   "execution_count": 332,
   "metadata": {},
   "outputs": [],
   "source": [
    "#Introducing noisy data to our model\n",
    "noisy_model_bow_l2 = LogisticRegression(penalty='l2',C=optimal_C_bow_l2)\n",
    "noisy_model_bow_l2.fit(X_noisy_l2,y_train2)\n",
    "\n",
    "#getting new weights\n",
    "\n",
    "coef_after_l2 = noisy_model_bow_l2.coef_"
   ]
  },
  {
   "cell_type": "code",
   "execution_count": 333,
   "metadata": {},
   "outputs": [],
   "source": [
    "#to eliminate divisible by zero error,adding 10^-6 to coef_before_l2 and coef_after_l2\n",
    "coef_before_l2 += 10**-6\n",
    "coef_after_l2 += 10**-6\n",
    "change_vec_l2 = []\n",
    "\n",
    "#Calculating the percentage change in weights\n",
    "for i in range(coef_before_l2.shape[1]):\n",
    "    w = ((coef_after_l2[0][i] - coef_before_l2[0][i])/(coef_before_l2[0][i]))\n",
    "    change_vec_l2.append(w)\n",
    "    "
   ]
  },
  {
   "cell_type": "code",
   "execution_count": 334,
   "metadata": {},
   "outputs": [
    {
     "name": "stdout",
     "output_type": "stream",
     "text": [
      "0th percentile value is -60.95832798190677\n",
      "10th percentile value is -0.00116284257268003\n",
      "20th percentile value is -0.00039880318750643804\n",
      "30th percentile value is -0.00011792056077687026\n",
      "40th percentile value is 2.5234760015563168e-05\n",
      "50th percentile value is 0.0001627127219842885\n",
      "60th percentile value is 0.0003594956564699062\n",
      "70th percentile value is 0.0009741426904649556\n",
      "80th percentile value is 0.0032688875999550403\n",
      "90th percentile value is 0.017908821376695125\n",
      "100th percentile value is 486.96216863693326\n"
     ]
    }
   ],
   "source": [
    "#Sorting to get the quantiles\n",
    "change_vec_l2_ = sorted(change_vec_l2,reverse=True)\n",
    "\n",
    "for i in range(11):\n",
    "    print(str(i*10) + 'th percentile value is ' + str(np.quantile(change_vec_l2_,i*0.1)))"
   ]
  },
  {
   "cell_type": "code",
   "execution_count": 335,
   "metadata": {},
   "outputs": [
    {
     "name": "stdout",
     "output_type": "stream",
     "text": [
      "90th percentile = 0.017908821376695125\n",
      "91th percentile = 0.02255474875741044\n",
      "92th percentile = 0.02921333265944996\n",
      "93th percentile = 0.037462697384435285\n",
      "94th percentile = 0.05575164313538149\n",
      "95th percentile = 0.08022203622997413\n",
      "96th percentile = 0.12018332120176677\n",
      "97th percentile = 0.17162355855219702\n",
      "98th percentile = 0.2697450392020361\n",
      "99th percentile = 0.4753689977729935\n",
      "100th percentile = 486.96216863693326\n"
     ]
    }
   ],
   "source": [
    "for i in range(90,101):\n",
    "    print(str(i)+'th percentile = '+str(np.percentile(change_vec_l2_,i)))"
   ]
  },
  {
   "cell_type": "code",
   "execution_count": 336,
   "metadata": {},
   "outputs": [
    {
     "name": "stdout",
     "output_type": "stream",
     "text": [
      "99.0th percentile = 0.4753689977729935\n",
      "99.1th percentile = 0.5409121618345993\n",
      "99.2th percentile = 0.5636646248733802\n",
      "99.3th percentile = 0.6217798731658961\n",
      "99.4th percentile = 0.7455986796019688\n",
      "99.5th percentile = 0.9230946327571891\n",
      "99.6th percentile = 1.0511998376369933\n",
      "99.7th percentile = 1.6904915318395641\n",
      "99.8th percentile = 2.9532765205264875\n",
      "99.9th percentile = 14.718577572829943\n",
      "100.0th percentile = 486.96216863693326\n"
     ]
    }
   ],
   "source": [
    "for i in np.linspace(99,100,11):\n",
    "    print(str(i)+'th percentile = '+str(np.percentile(change_vec_l2_,i)))"
   ]
  },
  {
   "cell_type": "code",
   "execution_count": 337,
   "metadata": {},
   "outputs": [
    {
     "name": "stdout",
     "output_type": "stream",
     "text": [
      "99.9th percentile = 14.718577572829943\n",
      "99.91000000000001th percentile = 14.782030372458044\n",
      "99.92th percentile = 17.173600121391438\n",
      "99.93th percentile = 17.286817582050617\n",
      "99.94th percentile = 17.286818007954743\n",
      "99.95th percentile = 18.947238405769514\n",
      "99.96000000000001th percentile = 25.21533605676641\n",
      "99.97th percentile = 34.345398677290746\n",
      "99.98th percentile = 38.09712656303578\n",
      "99.99th percentile = 486.9621413614484\n",
      "100.0th percentile = 486.96216863693326\n"
     ]
    }
   ],
   "source": [
    "for i in np.linspace(99.9,100,11):\n",
    "    print(str(i)+'th percentile = '+str(np.percentile(change_vec_l2_,i)))"
   ]
  },
  {
   "cell_type": "code",
   "execution_count": 338,
   "metadata": {},
   "outputs": [
    {
     "name": "stdout",
     "output_type": "stream",
     "text": [
      "99.9\n",
      "99.91000000000001\n",
      "99.92\n",
      "99.93\n",
      "99.94\n",
      "99.95\n",
      "99.96000000000001\n",
      "99.97\n",
      "99.98\n",
      "99.99\n",
      "100.0\n"
     ]
    }
   ],
   "source": [
    "change_vec_l2 = np.absolute(change_vec_l2).tolist()\n",
    "change_vec_l2_ = np.absolute(change_vec_l2_)\n",
    "j=[]\n",
    "for i in np.linspace(99.9,100,11):\n",
    "    print(i)\n",
    "    j.append(np.percentile(change_vec_l2_,i))\n",
    "    #j = change_vec_l2.index(np.percentile(change_vec_l2_,i))\n",
    "    #print(j)\n",
    "    #print(features_bow[j])"
   ]
  },
  {
   "cell_type": "code",
   "execution_count": 339,
   "metadata": {
    "scrolled": false
   },
   "outputs": [
    {
     "name": "stdout",
     "output_type": "stream",
     "text": [
      "admiration\n",
      "adoptions\n",
      "agreedthat\n",
      "allergyand\n",
      "alomost\n",
      "althos\n",
      "ammount\n",
      "availabily\n",
      "avidly\n",
      "bamilton\n",
      "beggars\n",
      "beteer\n",
      "beverly\n",
      "bloodlines\n",
      "brewingi\n",
      "calnat\n",
      "changeno\n",
      "checkpoints\n",
      "checkwith\n",
      "choicest\n",
      "chonditrin\n",
      "cobble\n",
      "compounding\n",
      "concerened\n",
      "conclusionbuy\n",
      "confirming\n",
      "consecutively\n",
      "contour\n",
      "contraire\n",
      "cortisone\n",
      "courts\n",
      "culinaryteas\n",
      "defecating\n",
      "denosyl\n",
      "depiicts\n",
      "differenthypoallergenic\n",
      "dillon\n",
      "diningroom\n",
      "distracters\n",
      "dizzying\n",
      "doce\n",
      "doingbetter\n",
      "drizzling\n",
      "dumas\n",
      "enlarges\n",
      "enrobing\n",
      "epidemiological\n",
      "ess\n",
      "facimilies\n",
      "fads\n",
      "favortires\n",
      "fiends\n",
      "fileted\n",
      "flares\n",
      "flavorspomegranates\n",
      "floured\n",
      "fontina\n",
      "formulain\n",
      "formulamy\n",
      "forture\n",
      "freeand\n",
      "furlessness\n",
      "goad\n",
      "granatus\n",
      "happyland\n",
      "hassels\n",
      "headlines\n",
      "hepatitis\n",
      "hiv\n",
      "hubbie\n",
      "hustle\n",
      "hustling\n",
      "hutchinson\n",
      "hv\n",
      "icre\n",
      "imperilled\n",
      "implode\n",
      "inadequte\n",
      "inferiors\n",
      "inherit\n",
      "insuring\n",
      "isold\n",
      "iteration\n",
      "kitcen\n",
      "knfe\n",
      "lifestle\n",
      "lubricate\n",
      "lubricating\n",
      "lubrication\n",
      "magnificient\n",
      "marscapone\n",
      "maverick\n",
      "medicate\n",
      "microbrew\n",
      "miffed\n",
      "mindell\n",
      "moistening\n",
      "mongut\n",
      "narrowly\n",
      "nescaf\n",
      "notdamaged\n",
      "npr\n",
      "ouncegoats\n",
      "oversees\n",
      "particulari\n",
      "periferal\n",
      "personalcare\n",
      "pomum\n",
      "porthos\n",
      "precautionary\n",
      "preppie\n",
      "priceless\n",
      "productas\n",
      "productexcellent\n",
      "protestant\n",
      "publishes\n",
      "racked\n",
      "reallt\n",
      "remmoval\n",
      "reportedly\n",
      "resti\n",
      "revolving\n",
      "robe\n",
      "robusto\n",
      "roobes\n",
      "ruffage\n",
      "sadler\n",
      "safeguards\n",
      "schauzers\n",
      "schooling\n",
      "scraching\n",
      "seedless\n",
      "shortcakes\n",
      "siam\n",
      "sizeand\n",
      "sizecalories\n",
      "sleptgood\n",
      "slider\n",
      "snorty\n",
      "staling\n",
      "starscalifornia\n",
      "starsorijen\n",
      "superstar\n",
      "sureshe\n",
      "tandem\n",
      "teagarden\n",
      "teflon\n",
      "thaimine\n",
      "thais\n",
      "thermophilum\n",
      "thoough\n",
      "tiredness\n",
      "trends\n",
      "tso\n",
      "undereducated\n",
      "unfrozen\n",
      "unpretty\n",
      "vaccinate\n",
      "varicose\n",
      "veggiedent\n",
      "vessels\n",
      "villain\n",
      "volumiizing\n",
      "volumizing\n",
      "vommited\n",
      "xiv\n",
      "xv\n",
      "xvi\n",
      "yowzer\n",
      "yucatan\n",
      "yule\n"
     ]
    }
   ],
   "source": [
    "#finding the features whose difference is more than 2.5\n",
    "j=[i for i in change_vec_l2 if i > 2.5]\n",
    "\n",
    "for k in j:\n",
    "    print(features_bow[change_vec_l2.index(k)])"
   ]
  },
  {
   "cell_type": "markdown",
   "metadata": {
    "colab_type": "text",
    "id": "eB1rF0BQLPpG"
   },
   "source": [
    "### [5.1.3] Feature Importance on BOW,<font color='red'> SET 1</font>"
   ]
  },
  {
   "cell_type": "markdown",
   "metadata": {
    "colab_type": "text",
    "id": "JZTP19dqLPpI"
   },
   "source": [
    "#### [5.1.3.1] Top 10 important features of positive class from<font color='red'> SET 1</font>"
   ]
  },
  {
   "cell_type": "code",
   "execution_count": 340,
   "metadata": {
    "colab": {},
    "colab_type": "code",
    "id": "oGRpCVJgLPpI"
   },
   "outputs": [
    {
     "name": "stdout",
     "output_type": "stream",
     "text": [
      "delicious\n",
      "holds\n",
      "beat\n",
      "excellent\n",
      "pleasantly\n",
      "yummy\n",
      "perfect\n",
      "pleased\n",
      "amazing\n",
      "addictive\n"
     ]
    }
   ],
   "source": [
    "# Please write all the code with proper documentation\n",
    "#finding the index of positive features\n",
    "\n",
    "i_pos = np.argsort(coef_before_l2)[:,::-1]\n",
    "\n",
    "for i in i_pos[0][0:10]:\n",
    "    print(features_bow[i])"
   ]
  },
  {
   "cell_type": "markdown",
   "metadata": {
    "colab_type": "text",
    "id": "UJLYBE1gLPpJ"
   },
   "source": [
    "#### [5.1.3.2] Top 10 important features of negative class from<font color='red'> SET 1</font>"
   ]
  },
  {
   "cell_type": "code",
   "execution_count": 341,
   "metadata": {
    "colab": {},
    "colab_type": "code",
    "id": "c9r7Zjx1LPpK"
   },
   "outputs": [
    {
     "name": "stdout",
     "output_type": "stream",
     "text": [
      "worst\n",
      "tasteless\n",
      "disappointing\n",
      "terrible\n",
      "cancelled\n",
      "canceled\n",
      "disappointment\n",
      "died\n",
      "awful\n",
      "sounded\n"
     ]
    }
   ],
   "source": [
    "# Please write all the code with proper documentation\n",
    "i_neg = np.argsort(coef_before_l2)\n",
    "\n",
    "for i in i_neg[0][0:10]:\n",
    "    print(features_bow[i])\n"
   ]
  },
  {
   "cell_type": "markdown",
   "metadata": {
    "colab_type": "text",
    "id": "nKn3VXcZLPpN"
   },
   "source": [
    "## [5.2] Logistic Regression on TFIDF,<font color='red'> SET 2</font>"
   ]
  },
  {
   "cell_type": "markdown",
   "metadata": {
    "colab_type": "text",
    "id": "naTBSzm6LPpN"
   },
   "source": [
    "### [5.2.1] Applying Logistic Regression with L1 regularization on TFIDF,<font color='red'> SET 2</font>"
   ]
  },
  {
   "cell_type": "code",
   "execution_count": 342,
   "metadata": {
    "colab": {},
    "colab_type": "code",
    "id": "PEhaagXXLPpS"
   },
   "outputs": [
    {
     "name": "stdout",
     "output_type": "stream",
     "text": [
      "AUC score for Logistic Regression Model with TFIDF features and l1 regularization  [0.5        0.6642516  0.9479565  0.93388236 0.92023391]\n",
      "best_auc_score_tfidf_l1  0.9479564980759493\n",
      "optimal_C_tfidf_l1  1\n"
     ]
    },
    {
     "data": {
      "text/plain": [
       "Text(0,0.5,'AUC values')"
      ]
     },
     "execution_count": 342,
     "metadata": {},
     "output_type": "execute_result"
    },
    {
     "data": {
      "image/png": "[encoded data removed]",
      "text/plain": [
       "<Figure size 432x288 with 1 Axes>"
      ]
     },
     "metadata": {
      "needs_background": "light"
     },
     "output_type": "display_data"
    }
   ],
   "source": [
    "# Please write all the code with proper documentation\n",
    "\n",
    "hyperparameters = {'C':[10**-4,10**-2,10**0,10**2,10**4]}\n",
    "model = LogisticRegression(penalty='l1')\n",
    "\n",
    "clf_tfidf_l1 = RandomizedSearchCV(model,param_distributions=hyperparameters,scoring='roc_auc',cv=10,random_state=100)\n",
    "clf_tfidf_l1.fit(final_tf_idf,y_train2)\n",
    "\n",
    "print('AUC score for Logistic Regression Model with TFIDF features and l1 regularization ',clf_tfidf_l1.cv_results_['mean_test_score'])\n",
    "\n",
    "AUC_tfidf_train_l1 = clf_tfidf_l1.cv_results_['mean_test_score']\n",
    "best_auc_score_tfidf_l1 = clf_tfidf_l1.best_score_\n",
    "optimal_C_tfidf_l1 = clf_tfidf_l1.best_params_['C']\n",
    "\n",
    "print('best_auc_score_tfidf_l1 ',best_auc_score_tfidf_l1)\n",
    "print('optimal_C_tfidf_l1 ',optimal_C_tfidf_l1)\n",
    "\n",
    "#finding auc scores for our CV data for validation\n",
    "AUC_tfidf_CV_l1 = []\n",
    "for x in hyperparameters['C']:\n",
    "    model = LogisticRegression(penalty='l1',C=x)\n",
    "    model.fit(final_tf_idf,y_train2)\n",
    "    y_pred = model.predict_proba(final_tf_idfCV)[:,1]\n",
    "    AUC_tfidf_CV_l1.append(metrics.roc_auc_score(y_CV,y_pred))\n",
    "    \n",
    "\n",
    "#plotting ROC curve for train and CV data\n",
    "plt.plot(hyperparameters['C'],AUC_tfidf_train_l1,label='Train AUC values')\n",
    "plt.plot(hyperparameters['C'],AUC_tfidf_CV_l1,label='CV AUC values')\n",
    "plt.legend()\n",
    "plt.xlabel('Hyperparameter - C')\n",
    "plt.ylabel('AUC values')\n",
    "\n",
    "#Observation : Our model is performing well when tested with CV data,so we can go ahead with considering best value of C as optimal_C_bow_l1  "
   ]
  },
  {
   "cell_type": "code",
   "execution_count": 343,
   "metadata": {},
   "outputs": [
    {
     "data": {
      "text/plain": [
       "Text(0,0.5,'AUC values')"
      ]
     },
     "execution_count": 343,
     "metadata": {},
     "output_type": "execute_result"
    },
    {
     "data": {
      "image/png": "[encoded data removed]",
      "text/plain": [
       "<Figure size 432x288 with 1 Axes>"
      ]
     },
     "metadata": {
      "needs_background": "light"
     },
     "output_type": "display_data"
    }
   ],
   "source": [
    "#As we have selected our best parameter,so finding auc scores for our test data to shown the results\n",
    "AUC_tfidf_test_l1 = []\n",
    "for x in hyperparameters['C']:\n",
    "    model = LogisticRegression(penalty='l1',C=x)\n",
    "    model.fit(final_tf_idf,y_train2)\n",
    "    y_pred = model.predict_proba(final_tf_idfTEST)[:,1]\n",
    "    AUC_tfidf_test_l1.append(metrics.roc_auc_score(y_test,y_pred))\n",
    "\n",
    "#plotting ROC curve for train and test data\n",
    "plt.plot(hyperparameters['C'],AUC_tfidf_train_l1,label='Train AUC values')\n",
    "plt.plot(hyperparameters['C'],AUC_tfidf_test_l1,label='Test AUC values')\n",
    "plt.legend()\n",
    "plt.xlabel('Hyperparameter - C')\n",
    "plt.ylabel('AUC values')"
   ]
  },
  {
   "cell_type": "code",
   "execution_count": 344,
   "metadata": {},
   "outputs": [
    {
     "data": {
      "image/png": "[encoded data removed]",
      "text/plain": [
       "<Figure size 432x288 with 1 Axes>"
      ]
     },
     "metadata": {
      "needs_background": "light"
     },
     "output_type": "display_data"
    }
   ],
   "source": [
    "#Plotting ROC curve as FPR vs TPR\n",
    "\n",
    "model_roc_l1 = LogisticRegression(penalty='l1',C=optimal_C_tfidf_l1)\n",
    "model_roc_l1 = model_roc_l1.fit(final_tf_idf,y_train2)\n",
    "\n",
    "y_pred_train_l1 = model_roc_l1.predict_proba(final_tf_idf)[:,1]\n",
    "fpr,tpr,t = metrics.roc_curve(y_train2,y_pred_train_l1)\n",
    "\n",
    "y_pred_test_l1 = model_roc_l1.predict_proba(final_tf_idfTEST)[:,1]\n",
    "fpr2,tpr2,t = metrics.roc_curve(y_test,y_pred_test_l1)\n",
    "\n",
    "plt.plot(fpr,tpr,label='Train ROC Curve')\n",
    "plt.plot(fpr2,tpr2,label='Test ROC Curve')\n",
    "plt.legend()\n",
    "plt.xlabel('False Positive Rate')\n",
    "plt.ylabel('True Positive Rate')\n",
    "plt.title('ROC curve of train and test data')\n",
    "plt.show()"
   ]
  },
  {
   "cell_type": "code",
   "execution_count": 345,
   "metadata": {},
   "outputs": [
    {
     "name": "stdout",
     "output_type": "stream",
     "text": [
      "optimal_t_tfidf_l1  0.6\n"
     ]
    },
    {
     "data": {
      "text/plain": [
       "<matplotlib.axes._subplots.AxesSubplot at 0x2036803b780>"
      ]
     },
     "execution_count": 345,
     "metadata": {},
     "output_type": "execute_result"
    },
    {
     "data": {
      "image/png": "[encoded data removed]",
      "text/plain": [
       "<Figure size 432x288 with 2 Axes>"
      ]
     },
     "metadata": {
      "needs_background": "light"
     },
     "output_type": "display_data"
    }
   ],
   "source": [
    "\n",
    "final_model_tfidf_l1 = LogisticRegression(penalty='l1',C=optimal_C_tfidf_l1)\n",
    "final_model_tfidf_l1.fit(final_tf_idf,y_train2)\n",
    "y_pred_tfidf_l1 = final_model_tfidf_l1.predict_proba(final_tf_idfTEST)[:,1]\n",
    "\n",
    "#finding the optimal threshold (based on correct prediction vs false prediction ration) for confusion matrix for a class to be classified\n",
    "t = list(np.arange(0.1,1.1,0.1))\n",
    "ratio=[]\n",
    "for x in t:\n",
    "    pred_class = binarize(y_pred_tfidf_l1.reshape(-1,1),threshold = x)\n",
    "    tn, fp, fn, tp = metrics.confusion_matrix(y_test,pred_class).ravel()\n",
    "    ratio.append((tp+tn)/(fp+fn))\n",
    "#print(ratio)\n",
    "optimal_t_tfidf_l1 = t[ratio.index(max(ratio))]\n",
    "print('optimal_t_tfidf_l1 ',optimal_t_tfidf_l1)\n",
    "\n",
    "##plotting confusion matrix for optimal threshold value\n",
    "\n",
    "pred_class = binarize(y_pred_tfidf_l1.reshape(-1,1),threshold = optimal_t_tfidf_l1)\n",
    "cm2 = metrics.confusion_matrix(y_test,pred_class)\n",
    "plt.figure()\n",
    "ax2 = plt.subplot()\n",
    "sns.heatmap(cm2,annot=True,ax=ax2,fmt='g')"
   ]
  },
  {
   "cell_type": "code",
   "execution_count": 346,
   "metadata": {},
   "outputs": [
    {
     "name": "stdout",
     "output_type": "stream",
     "text": [
      "sparsity_tfidf_l1  95.72663316582914\n",
      "Number of non zero entries which indicates sparsity  1063\n"
     ]
    }
   ],
   "source": [
    "##Calculating sparsity on weight vector obtained using L1 regularization on TFIDF\n",
    "#using already trained model\n",
    "\n",
    "coef_tfidf_l1 = final_model_tfidf_l1.coef_.ravel()\n",
    "sparsity_tfidf_l1 = np.mean(coef_tfidf_l1 == 0) * 100\n",
    "\n",
    "print('sparsity_tfidf_l1 ',sparsity_tfidf_l1)\n",
    "print('Number of non zero entries which indicates sparsity ',np.count_nonzero(final_model_tfidf_l1.coef_))"
   ]
  },
  {
   "cell_type": "markdown",
   "metadata": {
    "colab_type": "text",
    "id": "NdFShHQJLPpV"
   },
   "source": [
    "### [5.2.2] Applying Logistic Regression with L2 regularization on TFIDF,<font color='red'> SET 2</font>"
   ]
  },
  {
   "cell_type": "code",
   "execution_count": 347,
   "metadata": {
    "colab": {},
    "colab_type": "code",
    "id": "Jyhq3JDzLPpW"
   },
   "outputs": [
    {
     "name": "stdout",
     "output_type": "stream",
     "text": [
      "AUC score for Logistic Regression Model with TFIDF features and l2 regularization  [0.69916833 0.90755775 0.95297465 0.94464753 0.93754794]\n",
      "best_auc_score_tfidf_l2  0.9529746488572289\n",
      "optimal_C_tfidf_l2  1\n"
     ]
    },
    {
     "data": {
      "text/plain": [
       "Text(0,0.5,'AUC values')"
      ]
     },
     "execution_count": 347,
     "metadata": {},
     "output_type": "execute_result"
    },
    {
     "data": {
      "image/png": "[encoded data removed]",
      "text/plain": [
       "<Figure size 432x288 with 1 Axes>"
      ]
     },
     "metadata": {
      "needs_background": "light"
     },
     "output_type": "display_data"
    }
   ],
   "source": [
    "# Please write all the code with proper documentation\n",
    "# Please write all the code with proper documentation\n",
    "\n",
    "hyperparameters = {'C':[10**-4,10**-2,10**0,10**2,10**4]}\n",
    "model = LogisticRegression(penalty='l2')\n",
    "\n",
    "clf_tfidf_l2 = RandomizedSearchCV(model,param_distributions=hyperparameters,scoring='roc_auc',cv=10,random_state=100)\n",
    "clf_tfidf_l2.fit(final_tf_idf,y_train2)\n",
    "\n",
    "print('AUC score for Logistic Regression Model with TFIDF features and l2 regularization ',clf_tfidf_l2.cv_results_['mean_test_score'])\n",
    "\n",
    "AUC_tfidf_train_l2 = clf_tfidf_l2.cv_results_['mean_test_score']\n",
    "best_auc_score_tfidf_l2 = clf_tfidf_l2.best_score_\n",
    "optimal_C_tfidf_l2 = clf_tfidf_l2.best_params_['C']\n",
    "\n",
    "print('best_auc_score_tfidf_l2 ',best_auc_score_tfidf_l2)\n",
    "print('optimal_C_tfidf_l2 ',optimal_C_tfidf_l2)\n",
    "\n",
    "#finding auc scores for our CV data for validation\n",
    "AUC_tfidf_CV_l2 = []\n",
    "for x in hyperparameters['C']:\n",
    "    model = LogisticRegression(penalty='l2',C=x)\n",
    "    model.fit(final_tf_idf,y_train2)\n",
    "    y_pred = model.predict_proba(final_tf_idfCV)[:,1]\n",
    "    AUC_tfidf_CV_l2.append(metrics.roc_auc_score(y_CV,y_pred))\n",
    "    \n",
    "\n",
    "#plotting ROC curve for train and CV data\n",
    "plt.plot(hyperparameters['C'],AUC_tfidf_train_l2,label='Train AUC values')\n",
    "plt.plot(hyperparameters['C'],AUC_tfidf_CV_l2,label='CV AUC values')\n",
    "plt.legend()\n",
    "plt.xlabel('Hyperparameter - C')\n",
    "plt.ylabel('AUC values')\n",
    "\n",
    "#Observation : Our model is performing well when tested with CV data,so we can go ahead with considering best value of C as optimal_C_bow_l1  \n",
    "\n"
   ]
  },
  {
   "cell_type": "code",
   "execution_count": 348,
   "metadata": {},
   "outputs": [
    {
     "data": {
      "text/plain": [
       "Text(0,0.5,'AUC values')"
      ]
     },
     "execution_count": 348,
     "metadata": {},
     "output_type": "execute_result"
    },
    {
     "data": {
      "image/png": "[encoded data removed]",
      "text/plain": [
       "<Figure size 432x288 with 1 Axes>"
      ]
     },
     "metadata": {
      "needs_background": "light"
     },
     "output_type": "display_data"
    }
   ],
   "source": [
    "#As we have selected our best parameter,so finding auc scores for our test data to show the results\n",
    "AUC_tfidf_test_l2 = []\n",
    "for x in hyperparameters['C']:\n",
    "    model = LogisticRegression(penalty='l2',C=x)\n",
    "    model.fit(final_tf_idf,y_train2)\n",
    "    y_pred = model.predict_proba(final_tf_idfTEST)[:,1]\n",
    "    AUC_tfidf_test_l2.append(metrics.roc_auc_score(y_test,y_pred))\n",
    "\n",
    "#plotting ROC curve for train and test data\n",
    "plt.plot(hyperparameters['C'],AUC_tfidf_train_l2,label='Train AUC values')\n",
    "plt.plot(hyperparameters['C'],AUC_tfidf_test_l2,label='Test AUC values')\n",
    "plt.legend()\n",
    "plt.xlabel('Hyperparameter - C')\n",
    "plt.ylabel('AUC values')\n",
    "\n"
   ]
  },
  {
   "cell_type": "code",
   "execution_count": 349,
   "metadata": {},
   "outputs": [
    {
     "data": {
      "image/png": "[encoded data removed]",
      "text/plain": [
       "<Figure size 432x288 with 1 Axes>"
      ]
     },
     "metadata": {
      "needs_background": "light"
     },
     "output_type": "display_data"
    }
   ],
   "source": [
    "#Plotting ROC curve as FPR vs TPR\n",
    "\n",
    "model_roc_l2 = LogisticRegression(penalty='l2',C=optimal_C_tfidf_l2)\n",
    "model_roc_l2 = model_roc_l2.fit(final_tf_idf,y_train2)\n",
    "\n",
    "y_pred_train_l2 = model_roc_l2.predict_proba(final_tf_idf)[:,1]\n",
    "fpr,tpr,t = metrics.roc_curve(y_train2,y_pred_train_l2)\n",
    "\n",
    "y_pred_test_l2 = model_roc_l2.predict_proba(final_tf_idfTEST)[:,1]\n",
    "fpr2,tpr2,t = metrics.roc_curve(y_test,y_pred_test_l2)\n",
    "\n",
    "plt.plot(fpr,tpr,label='Train ROC Curve')\n",
    "plt.plot(fpr2,tpr2,label='Test ROC Curve')\n",
    "plt.legend()\n",
    "plt.xlabel('False Positive Rate')\n",
    "plt.ylabel('True Positive Rate')\n",
    "plt.title('ROC curve of train and test data')\n",
    "plt.show()\n"
   ]
  },
  {
   "cell_type": "code",
   "execution_count": 350,
   "metadata": {},
   "outputs": [
    {
     "name": "stdout",
     "output_type": "stream",
     "text": [
      "optimal_t_tfidf_l2  0.6\n"
     ]
    },
    {
     "data": {
      "text/plain": [
       "<matplotlib.axes._subplots.AxesSubplot at 0x203433dd278>"
      ]
     },
     "execution_count": 350,
     "metadata": {},
     "output_type": "execute_result"
    },
    {
     "data": {
      "image/png": "[encoded data removed]",
      "text/plain": [
       "<Figure size 432x288 with 2 Axes>"
      ]
     },
     "metadata": {
      "needs_background": "light"
     },
     "output_type": "display_data"
    }
   ],
   "source": [
    "final_model_tfidf_l2 = LogisticRegression(penalty='l2',C=optimal_C_tfidf_l2)\n",
    "final_model_tfidf_l2.fit(final_tf_idf,y_train2)\n",
    "y_pred_tfidf_l2 = final_model_tfidf_l2.predict_proba(final_tf_idfTEST)[:,1]\n",
    "\n",
    "#finding the optimal threshold (based on correct prediction vs false prediction ration) for confusion matrix for a class to be classified\n",
    "t = list(np.arange(0.1,1.1,0.1))\n",
    "ratio=[]\n",
    "for x in t:\n",
    "    pred_class = binarize(y_pred_tfidf_l2.reshape(-1,1),threshold = x)\n",
    "    tn, fp, fn, tp = metrics.confusion_matrix(y_test,pred_class).ravel()\n",
    "    ratio.append((tp+tn)/(fp+fn))\n",
    "#print(ratio)\n",
    "optimal_t_tfidf_l2 = t[ratio.index(max(ratio))]\n",
    "print('optimal_t_tfidf_l2 ',optimal_t_tfidf_l2)\n",
    "\n",
    "##plotting confusion matrix for optimal threshold value\n",
    "\n",
    "pred_class = binarize(y_pred_tfidf_l2.reshape(-1,1),threshold = optimal_t_tfidf_l2)\n",
    "cm2 = metrics.confusion_matrix(y_test,pred_class)\n",
    "plt.figure()\n",
    "ax2 = plt.subplot()\n",
    "sns.heatmap(cm2,annot=True,ax=ax2,fmt='g')"
   ]
  },
  {
   "cell_type": "code",
   "execution_count": 351,
   "metadata": {},
   "outputs": [
    {
     "name": "stdout",
     "output_type": "stream",
     "text": [
      "sparsity_tfidf_l2  0.0\n",
      "Number of non zero entries which indicates sparsity  24875\n"
     ]
    }
   ],
   "source": [
    "##Calculating sparsity on weight vector obtained using L1 regularization on TFIDF\n",
    "#using already trained model\n",
    "\n",
    "coef_tfidf_l2 = final_model_tfidf_l2.coef_.ravel()\n",
    "sparsity_tfidf_l2 = np.mean(coef_tfidf_l2 == 0) * 100\n",
    "\n",
    "print('sparsity_tfidf_l2 ',sparsity_tfidf_l2)\n",
    "print('Number of non zero entries which indicates sparsity ',np.count_nonzero(final_model_tfidf_l2.coef_))"
   ]
  },
  {
   "cell_type": "markdown",
   "metadata": {
    "colab_type": "text",
    "id": "xeeJ8eVvLPpX"
   },
   "source": [
    "### [5.2.3] Feature Importance on TFIDF,<font color='red'> SET 2</font>"
   ]
  },
  {
   "cell_type": "markdown",
   "metadata": {
    "colab_type": "text",
    "id": "Cj9XEmqQLPpY"
   },
   "source": [
    "#### [5.2.3.1] Top 10 important features of positive class from<font color='red'> SET 2</font>"
   ]
  },
  {
   "cell_type": "code",
   "execution_count": 352,
   "metadata": {
    "colab": {},
    "colab_type": "code",
    "id": "RG10txygLPpb"
   },
   "outputs": [
    {
     "name": "stdout",
     "output_type": "stream",
     "text": [
      "great\n",
      "delicious\n",
      "best\n",
      "good\n",
      "loves\n",
      "love\n",
      "perfect\n",
      "excellent\n",
      "wonderful\n",
      "nice\n"
     ]
    }
   ],
   "source": [
    "coef_tf = final_model_tfidf_l2.coef_\n",
    "i_pos2 = np.argsort(coef_tf)[:,::-1]\n",
    "\n",
    "for i in i_pos2[0][0:10]:\n",
    "    print(features_tf_idf[i])"
   ]
  },
  {
   "cell_type": "markdown",
   "metadata": {
    "colab_type": "text",
    "id": "PowEfns4LPpg"
   },
   "source": [
    "#### [5.2.3.2] Top 10 important features of negative class from<font color='red'> SET 2</font>"
   ]
  },
  {
   "cell_type": "code",
   "execution_count": 353,
   "metadata": {
    "colab": {},
    "colab_type": "code",
    "id": "G7jrma95LPpg"
   },
   "outputs": [
    {
     "name": "stdout",
     "output_type": "stream",
     "text": [
      "disappointed\n",
      "not\n",
      "worst\n",
      "terrible\n",
      "not good\n",
      "horrible\n",
      "not recommend\n",
      "awful\n",
      "not buy\n",
      "disappointing\n"
     ]
    }
   ],
   "source": [
    "# Please write all the code with proper documentation\n",
    "i_neg2 = np.argsort(coef_tf)\n",
    "\n",
    "for i in i_neg2[0][0:10]:\n",
    "    print(features_tf_idf[i])"
   ]
  },
  {
   "cell_type": "markdown",
   "metadata": {
    "colab_type": "text",
    "id": "sqYadGOgLPpi"
   },
   "source": [
    "## [5.3] Logistic Regression on AVG W2V,<font color='red'> SET 3</font>"
   ]
  },
  {
   "cell_type": "markdown",
   "metadata": {
    "colab_type": "text",
    "id": "kByBCEA1LPpj"
   },
   "source": [
    "### [5.3.1] Applying Logistic Regression with L1 regularization on AVG W2V<font color='red'> SET 3</font>"
   ]
  },
  {
   "cell_type": "code",
   "execution_count": 354,
   "metadata": {
    "colab": {},
    "colab_type": "code",
    "id": "yCQ_4iJkLPpj"
   },
   "outputs": [
    {
     "name": "stdout",
     "output_type": "stream",
     "text": [
      "AUC score for Logistic Regression Model with Avg W2V features and l1 regularization  [0.5        0.89099636 0.89813651 0.89808568 0.89808407]\n",
      "best_auc_score_avgw2v_l1  0.8981365109992843\n",
      "optimal_C_avgw2v_l1  1\n"
     ]
    },
    {
     "data": {
      "text/plain": [
       "Text(0,0.5,'AUC values')"
      ]
     },
     "execution_count": 354,
     "metadata": {},
     "output_type": "execute_result"
    },
    {
     "data": {
      "image/png": "[encoded data removed]",
      "text/plain": [
       "<Figure size 432x288 with 1 Axes>"
      ]
     },
     "metadata": {
      "needs_background": "light"
     },
     "output_type": "display_data"
    }
   ],
   "source": [
    "# Please write all the code with proper documentation\n",
    "\n",
    "\n",
    "hyperparameters = {'C':[10**-4,10**-2,10**0,10**2,10**4]}\n",
    "model = LogisticRegression(penalty='l1')\n",
    "\n",
    "clf_avgw2v_l1 = RandomizedSearchCV(model,param_distributions=hyperparameters,scoring='roc_auc',cv=10,random_state=100)\n",
    "clf_avgw2v_l1.fit(sent_vectors_train,y_train2)\n",
    "\n",
    "print('AUC score for Logistic Regression Model with Avg W2V features and l1 regularization ',clf_avgw2v_l1.cv_results_['mean_test_score'])\n",
    "\n",
    "AUC_avgw2v_train_l1 = clf_avgw2v_l1.cv_results_['mean_test_score']\n",
    "best_auc_score_avgw2v_l1 = clf_avgw2v_l1.best_score_\n",
    "optimal_C_avgw2v_l1 = clf_avgw2v_l1.best_params_['C']\n",
    "\n",
    "print('best_auc_score_avgw2v_l1 ',best_auc_score_avgw2v_l1)\n",
    "print('optimal_C_avgw2v_l1 ',optimal_C_avgw2v_l1)\n",
    "\n",
    "#finding auc scores for our CV data for validation\n",
    "AUC_avgw2v_CV_l1 = []\n",
    "for x in hyperparameters['C']:\n",
    "    model = LogisticRegression(penalty='l1',C=x)\n",
    "    model.fit(sent_vectors_train,y_train2)\n",
    "    y_pred = model.predict_proba(sent_vectors_cv)[:,1]\n",
    "    AUC_avgw2v_CV_l1.append(metrics.roc_auc_score(y_CV,y_pred))\n",
    "    \n",
    "\n",
    "#plotting ROC curve for train and CV data\n",
    "plt.plot(hyperparameters['C'],AUC_avgw2v_train_l1,label='Train AUC values')\n",
    "plt.plot(hyperparameters['C'],AUC_avgw2v_CV_l1,label='CV AUC values')\n",
    "plt.legend()\n",
    "plt.xlabel('Hyperparameter - C')\n",
    "plt.ylabel('AUC values')\n",
    "\n",
    "#Observation : Our model is performing well when tested with CV data,so we can go ahead with considering best value of C as optimal_C_bow_l1  "
   ]
  },
  {
   "cell_type": "code",
   "execution_count": 355,
   "metadata": {},
   "outputs": [
    {
     "data": {
      "text/plain": [
       "Text(0,0.5,'AUC values')"
      ]
     },
     "execution_count": 355,
     "metadata": {},
     "output_type": "execute_result"
    },
    {
     "data": {
      "image/png": "[encoded data removed]",
      "text/plain": [
       "<Figure size 432x288 with 1 Axes>"
      ]
     },
     "metadata": {
      "needs_background": "light"
     },
     "output_type": "display_data"
    }
   ],
   "source": [
    "#As we have selected our best parameter,so finding auc scores for our test data to shown the results\n",
    "AUC_avgw2v_test_l1 = []\n",
    "for x in hyperparameters['C']:\n",
    "    model = LogisticRegression(penalty='l1',C=x)\n",
    "    model.fit(sent_vectors_train,y_train2)\n",
    "    y_pred = model.predict_proba(sent_vectors_test)[:,1]\n",
    "    AUC_avgw2v_test_l1.append(metrics.roc_auc_score(y_test,y_pred))\n",
    "\n",
    "#plotting ROC curve for train and test data\n",
    "plt.plot(hyperparameters['C'],AUC_avgw2v_train_l1,label='Train AUC values')\n",
    "plt.plot(hyperparameters['C'],AUC_avgw2v_test_l1,label='Test AUC values')\n",
    "plt.legend()\n",
    "plt.xlabel('Hyperparameter - C')\n",
    "plt.ylabel('AUC values')"
   ]
  },
  {
   "cell_type": "code",
   "execution_count": 356,
   "metadata": {},
   "outputs": [
    {
     "data": {
      "image/png": "[encoded data removed]",
      "text/plain": [
       "<Figure size 432x288 with 1 Axes>"
      ]
     },
     "metadata": {
      "needs_background": "light"
     },
     "output_type": "display_data"
    }
   ],
   "source": [
    "#Plotting ROC curve as FPR vs TPR\n",
    "\n",
    "model_roc_l1 = LogisticRegression(penalty='l1',C=optimal_C_avgw2v_l1)\n",
    "model_roc_l1 = model_roc_l1.fit(sent_vectors_train,y_train2)\n",
    "\n",
    "y_pred_train_l1 = model_roc_l1.predict_proba(sent_vectors_train)[:,1]\n",
    "fpr,tpr,t = metrics.roc_curve(y_train2,y_pred_train_l1)\n",
    "\n",
    "y_pred_test_l1 = model_roc_l1.predict_proba(sent_vectors_test)[:,1]\n",
    "fpr2,tpr2,t = metrics.roc_curve(y_test,y_pred_test_l1)\n",
    "\n",
    "plt.plot(fpr,tpr,label='Train ROC Curve')\n",
    "plt.plot(fpr2,tpr2,label='Test ROC Curve')\n",
    "plt.legend()\n",
    "plt.xlabel('False Positive Rate')\n",
    "plt.ylabel('True Positive Rate')\n",
    "plt.title('ROC curve of train and test data')\n",
    "plt.show()"
   ]
  },
  {
   "cell_type": "code",
   "execution_count": 357,
   "metadata": {},
   "outputs": [
    {
     "name": "stdout",
     "output_type": "stream",
     "text": [
      "optimal_t_avgw2v_l1  0.5\n"
     ]
    },
    {
     "data": {
      "text/plain": [
       "<matplotlib.axes._subplots.AxesSubplot at 0x2035fc827f0>"
      ]
     },
     "execution_count": 357,
     "metadata": {},
     "output_type": "execute_result"
    },
    {
     "data": {
      "image/png": "[encoded data removed]",
      "text/plain": [
       "<Figure size 432x288 with 2 Axes>"
      ]
     },
     "metadata": {
      "needs_background": "light"
     },
     "output_type": "display_data"
    }
   ],
   "source": [
    "\n",
    "final_model_avgw2v_l1 = LogisticRegression(penalty='l1',C=optimal_C_avgw2v_l1)\n",
    "final_model_avgw2v_l1.fit(sent_vectors_train,y_train2)\n",
    "y_pred_avgw2v_l1 = final_model_avgw2v_l1.predict_proba(sent_vectors_test)[:,1]\n",
    "\n",
    "#finding the optimal threshold (based on correct prediction vs false prediction ration) for confusion matrix for a class to be classified\n",
    "t = list(np.arange(0.1,1.1,0.1))\n",
    "ratio=[]\n",
    "for x in t:\n",
    "    pred_class = binarize(y_pred_avgw2v_l1.reshape(-1,1),threshold = x)\n",
    "    tn, fp, fn, tp = metrics.confusion_matrix(y_test,pred_class).ravel()\n",
    "    ratio.append((tp+tn)/(fp+fn))\n",
    "#print(ratio)\n",
    "optimal_t_avgw2v_l1 = t[ratio.index(max(ratio))]\n",
    "print('optimal_t_avgw2v_l1 ',optimal_t_avgw2v_l1)\n",
    "\n",
    "##plotting confusion matrix for optimal threshold value\n",
    "\n",
    "pred_class = binarize(y_pred_avgw2v_l1.reshape(-1,1),threshold = optimal_t_avgw2v_l1)\n",
    "cm2 = metrics.confusion_matrix(y_test,pred_class)\n",
    "plt.figure()\n",
    "ax2 = plt.subplot()\n",
    "sns.heatmap(cm2,annot=True,ax=ax2,fmt='g')\n"
   ]
  },
  {
   "cell_type": "code",
   "execution_count": 358,
   "metadata": {},
   "outputs": [
    {
     "name": "stdout",
     "output_type": "stream",
     "text": [
      "sparsity_avgw2v_l1  2.0\n",
      "Number of non zero entries which indicates sparsity  49\n"
     ]
    }
   ],
   "source": [
    "##Calculating sparsity on weight vector obtained using L1 regularization on AVG W2V\n",
    "#using already trained model\n",
    "\n",
    "coef_avgw2v_l1 = final_model_avgw2v_l1.coef_.ravel()\n",
    "sparsity_avgw2v_l1 = np.mean(coef_avgw2v_l1 == 0) * 100\n",
    "\n",
    "print('sparsity_avgw2v_l1 ',sparsity_avgw2v_l1)\n",
    "print('Number of non zero entries which indicates sparsity ',np.count_nonzero(final_model_avgw2v_l1.coef_))"
   ]
  },
  {
   "cell_type": "markdown",
   "metadata": {
    "colab_type": "text",
    "id": "O_8Gu2SfLPpn"
   },
   "source": [
    "### [5.3.2] Applying Logistic Regression with L2 regularization on AVG W2V,<font color='red'> SET 3</font>"
   ]
  },
  {
   "cell_type": "code",
   "execution_count": 359,
   "metadata": {
    "colab": {},
    "colab_type": "code",
    "id": "Zy3s4jk1LPpn"
   },
   "outputs": [
    {
     "name": "stdout",
     "output_type": "stream",
     "text": [
      "AUC score for Logistic Regression Model with Avg W2V features and l2 regularization  [0.8114141  0.89619228 0.89812146 0.89809045 0.89809053]\n",
      "best_auc_score_avgw2v_l1  0.8981214573355768\n",
      "optimal_C_avgw2v_l1  1\n"
     ]
    },
    {
     "data": {
      "text/plain": [
       "Text(0,0.5,'AUC values')"
      ]
     },
     "execution_count": 359,
     "metadata": {},
     "output_type": "execute_result"
    },
    {
     "data": {
      "image/png": "[encoded data removed]",
      "text/plain": [
       "<Figure size 432x288 with 1 Axes>"
      ]
     },
     "metadata": {
      "needs_background": "light"
     },
     "output_type": "display_data"
    }
   ],
   "source": [
    "# Please write all the code with proper documentation\n",
    "\n",
    "hyperparameters = {'C':[10**-4,10**-2,10**0,10**2,10**4]}\n",
    "model = LogisticRegression(penalty='l2')\n",
    "\n",
    "clf_avgw2v_l2 = RandomizedSearchCV(model,param_distributions=hyperparameters,scoring='roc_auc',cv=10,random_state=100)\n",
    "clf_avgw2v_l2.fit(sent_vectors_train,y_train2)\n",
    "\n",
    "print('AUC score for Logistic Regression Model with Avg W2V features and l2 regularization ',clf_avgw2v_l2.cv_results_['mean_test_score'])\n",
    "\n",
    "AUC_avgw2v_train_l2 = clf_avgw2v_l2.cv_results_['mean_test_score']\n",
    "best_auc_score_avgw2v_l2 = clf_avgw2v_l2.best_score_\n",
    "optimal_C_avgw2v_l2 = clf_avgw2v_l2.best_params_['C']\n",
    "\n",
    "print('best_auc_score_avgw2v_l1 ',best_auc_score_avgw2v_l2)\n",
    "print('optimal_C_avgw2v_l1 ',optimal_C_avgw2v_l2)\n",
    "\n",
    "#finding auc scores for our CV data for validation\n",
    "AUC_avgw2v_CV_l2 = []\n",
    "for x in hyperparameters['C']:\n",
    "    model = LogisticRegression(penalty='l2',C=x)\n",
    "    model.fit(sent_vectors_train,y_train2)\n",
    "    y_pred = model.predict_proba(sent_vectors_cv)[:,1]\n",
    "    AUC_avgw2v_CV_l2.append(metrics.roc_auc_score(y_CV,y_pred))\n",
    "    \n",
    "\n",
    "#plotting ROC curve for train and CV data\n",
    "plt.plot(hyperparameters['C'],AUC_avgw2v_train_l2,label='Train AUC values')\n",
    "plt.plot(hyperparameters['C'],AUC_avgw2v_CV_l2,label='CV AUC values')\n",
    "plt.legend()\n",
    "plt.xlabel('Hyperparameter - C')\n",
    "plt.ylabel('AUC values')\n",
    "\n",
    "#Observation : Our model is performing well when tested with CV data,so we can go ahead with considering best value of C as optimal_C_bow_l1  "
   ]
  },
  {
   "cell_type": "code",
   "execution_count": 360,
   "metadata": {},
   "outputs": [
    {
     "data": {
      "text/plain": [
       "Text(0,0.5,'AUC values')"
      ]
     },
     "execution_count": 360,
     "metadata": {},
     "output_type": "execute_result"
    },
    {
     "data": {
      "image/png": "[encoded data removed]",
      "text/plain": [
       "<Figure size 432x288 with 1 Axes>"
      ]
     },
     "metadata": {
      "needs_background": "light"
     },
     "output_type": "display_data"
    }
   ],
   "source": [
    "#As we have selected our best parameter,so finding auc scores for our test data to shown the results\n",
    "AUC_avgw2v_test_l2 = []\n",
    "for x in hyperparameters['C']:\n",
    "    model = LogisticRegression(penalty='l2',C=x)\n",
    "    model.fit(sent_vectors_train,y_train2)\n",
    "    y_pred = model.predict_proba(sent_vectors_test)[:,1]\n",
    "    AUC_avgw2v_test_l2.append(metrics.roc_auc_score(y_test,y_pred))\n",
    "\n",
    "#plotting ROC curve for train and test data\n",
    "plt.plot(hyperparameters['C'],AUC_avgw2v_train_l2,label='Train AUC values')\n",
    "plt.plot(hyperparameters['C'],AUC_avgw2v_test_l2,label='Test AUC values')\n",
    "plt.legend()\n",
    "plt.xlabel('Hyperparameter - C')\n",
    "plt.ylabel('AUC values')\n",
    "\n"
   ]
  },
  {
   "cell_type": "code",
   "execution_count": 361,
   "metadata": {},
   "outputs": [
    {
     "data": {
      "image/png": "[encoded data removed]",
      "text/plain": [
       "<Figure size 432x288 with 1 Axes>"
      ]
     },
     "metadata": {
      "needs_background": "light"
     },
     "output_type": "display_data"
    }
   ],
   "source": [
    "#Plotting ROC curve as FPR vs TPR\n",
    "\n",
    "model_roc_l2 = LogisticRegression(penalty='l2',C=optimal_C_avgw2v_l2)\n",
    "model_roc_l2 = model_roc_l2.fit(sent_vectors_train,y_train2)\n",
    "\n",
    "y_pred_train_l2 = model_roc_l2.predict_proba(sent_vectors_train)[:,1]\n",
    "fpr,tpr,t = metrics.roc_curve(y_train2,y_pred_train_l2)\n",
    "\n",
    "y_pred_test_l2 = model_roc_l2.predict_proba(sent_vectors_test)[:,1]\n",
    "fpr2,tpr2,t = metrics.roc_curve(y_test,y_pred_test_l2)\n",
    "\n",
    "plt.plot(fpr,tpr,label='Train ROC Curve')\n",
    "plt.plot(fpr2,tpr2,label='Test ROC Curve')\n",
    "plt.legend()\n",
    "plt.xlabel('False Positive Rate')\n",
    "plt.ylabel('True Positive Rate')\n",
    "plt.title('ROC curve of train and test data')\n",
    "plt.show()\n",
    "\n"
   ]
  },
  {
   "cell_type": "code",
   "execution_count": 362,
   "metadata": {},
   "outputs": [
    {
     "name": "stdout",
     "output_type": "stream",
     "text": [
      "optimal_t_avgw2v_l2  0.5\n"
     ]
    },
    {
     "data": {
      "text/plain": [
       "<matplotlib.axes._subplots.AxesSubplot at 0x2035ff30128>"
      ]
     },
     "execution_count": 362,
     "metadata": {},
     "output_type": "execute_result"
    },
    {
     "data": {
      "image/png": "[encoded data removed]",
      "text/plain": [
       "<Figure size 432x288 with 2 Axes>"
      ]
     },
     "metadata": {
      "needs_background": "light"
     },
     "output_type": "display_data"
    }
   ],
   "source": [
    "#building a final model with optimal C so as to generate a onfusion matrix \n",
    "final_model_avgw2v_l2 = LogisticRegression(penalty='l2',C=optimal_C_avgw2v_l2)\n",
    "final_model_avgw2v_l2.fit(sent_vectors_train,y_train2)\n",
    "y_pred_avgw2v_l2 = final_model_avgw2v_l2.predict_proba(sent_vectors_test)[:,1]\n",
    "\n",
    "#finding the optimal threshold (based on correct prediction vs false prediction ration) for confusion matrix for a class to be classified\n",
    "t = list(np.arange(0.1,1.1,0.1))\n",
    "ratio=[]\n",
    "for x in t:\n",
    "    pred_class = binarize(y_pred_avgw2v_l2.reshape(-1,1),threshold = x)\n",
    "    tn, fp, fn, tp = metrics.confusion_matrix(y_test,pred_class).ravel()\n",
    "    ratio.append((tp+tn)/(fp+fn))\n",
    "#print(ratio)\n",
    "optimal_t_avgw2v_l2 = t[ratio.index(max(ratio))]\n",
    "print('optimal_t_avgw2v_l2 ',optimal_t_avgw2v_l2)\n",
    "\n",
    "##plotting confusion matrix for optimal threshold value\n",
    "\n",
    "pred_class = binarize(y_pred_avgw2v_l2.reshape(-1,1),threshold = optimal_t_avgw2v_l2)\n",
    "cm2 = metrics.confusion_matrix(y_test,pred_class)\n",
    "plt.figure()\n",
    "ax2 = plt.subplot()\n",
    "sns.heatmap(cm2,annot=True,ax=ax2,fmt='g')"
   ]
  },
  {
   "cell_type": "code",
   "execution_count": 363,
   "metadata": {},
   "outputs": [
    {
     "name": "stdout",
     "output_type": "stream",
     "text": [
      "sparsity_avgw2v_l2  0.0\n",
      "Number of non zero entries which indicates sparsity  50\n"
     ]
    }
   ],
   "source": [
    "##Calculating sparsity on weight vector obtained using L1 regularization on AVG W2V\n",
    "#using already trained model\n",
    "\n",
    "coef_avgw2v_l2 = final_model_avgw2v_l2.coef_.ravel()\n",
    "sparsity_avgw2v_l2 = np.mean(coef_avgw2v_l2 == 0) * 100\n",
    "\n",
    "print('sparsity_avgw2v_l2 ',sparsity_avgw2v_l2)\n",
    "print('Number of non zero entries which indicates sparsity ',np.count_nonzero(final_model_avgw2v_l2.coef_))"
   ]
  },
  {
   "cell_type": "markdown",
   "metadata": {
    "colab_type": "text",
    "id": "pdXTwVIPLPpp"
   },
   "source": [
    "## [5.4] Logistic Regression on TFIDF W2V,<font color='red'> SET 4</font>"
   ]
  },
  {
   "cell_type": "markdown",
   "metadata": {
    "colab_type": "text",
    "id": "WP9NjwNSLPpp"
   },
   "source": [
    "### [5.4.1] Applying Logistic Regression with L1 regularization on TFIDF W2V,<font color='red'> SET 4</font>"
   ]
  },
  {
   "cell_type": "code",
   "execution_count": 364,
   "metadata": {
    "colab": {},
    "colab_type": "code",
    "id": "207gYymwLPpq"
   },
   "outputs": [
    {
     "name": "stdout",
     "output_type": "stream",
     "text": [
      "AUC score for Logistic Regression Model with TFIDF W2V features and l1 regularization  [0.5        0.86429901 0.87372879 0.87369363 0.87368791]\n",
      "best_auc_score_tfidfw2v_l1  0.8737287909806475\n",
      "optimal_C_tfidfw2v_l1  1\n"
     ]
    },
    {
     "data": {
      "text/plain": [
       "Text(0,0.5,'AUC values')"
      ]
     },
     "execution_count": 364,
     "metadata": {},
     "output_type": "execute_result"
    },
    {
     "data": {
      "image/png": "[encoded data removed]",
      "text/plain": [
       "<Figure size 432x288 with 1 Axes>"
      ]
     },
     "metadata": {
      "needs_background": "light"
     },
     "output_type": "display_data"
    }
   ],
   "source": [
    "# Please write all the code with proper documentation\n",
    "\n",
    "hyperparameters = {'C':[10**-4,10**-2,10**0,10**2,10**4]}\n",
    "model = LogisticRegression(penalty='l1')\n",
    "\n",
    "clf_tfidfw2v_l1 = RandomizedSearchCV(model,param_distributions=hyperparameters,scoring='roc_auc',cv=10,random_state=100)\n",
    "clf_tfidfw2v_l1.fit(tfidf_sent_vectors_train,y_train2)\n",
    "\n",
    "print('AUC score for Logistic Regression Model with TFIDF W2V features and l1 regularization ',clf_tfidfw2v_l1.cv_results_['mean_test_score'])\n",
    "\n",
    "AUC_tfidfw2v_train_l1 = clf_tfidfw2v_l1.cv_results_['mean_test_score']\n",
    "best_auc_score_tfidfw2v_l1 = clf_tfidfw2v_l1.best_score_\n",
    "optimal_C_tfidfw2v_l1 = clf_tfidfw2v_l1.best_params_['C']\n",
    "\n",
    "print('best_auc_score_tfidfw2v_l1 ',best_auc_score_tfidfw2v_l1)\n",
    "print('optimal_C_tfidfw2v_l1 ',optimal_C_tfidfw2v_l1)\n",
    "\n",
    "#finding auc scores for our CV data for validation\n",
    "AUC_tfidfw2v_CV_l1 = []\n",
    "for x in hyperparameters['C']:\n",
    "    model = LogisticRegression(penalty='l1',C=x)\n",
    "    model.fit(tfidf_sent_vectors_train,y_train2)\n",
    "    y_pred = model.predict_proba(tfidf_sent_vectors_CV)[:,1]\n",
    "    AUC_tfidfw2v_CV_l1.append(metrics.roc_auc_score(y_CV,y_pred))\n",
    "    \n",
    "\n",
    "#plotting ROC curve for train and CV data\n",
    "plt.plot(hyperparameters['C'],AUC_tfidfw2v_train_l1,label='Train AUC values')\n",
    "plt.plot(hyperparameters['C'],AUC_tfidfw2v_CV_l1,label='CV AUC values')\n",
    "plt.legend()\n",
    "plt.xlabel('Hyperparameter - C')\n",
    "plt.ylabel('AUC values')\n",
    "\n",
    "#Observation : Our model is performing well when tested with CV data,so we can go ahead with considering best value of C as optimal_C_bow_l1  \n",
    "\n"
   ]
  },
  {
   "cell_type": "code",
   "execution_count": 365,
   "metadata": {},
   "outputs": [
    {
     "data": {
      "text/plain": [
       "Text(0,0.5,'AUC values')"
      ]
     },
     "execution_count": 365,
     "metadata": {},
     "output_type": "execute_result"
    },
    {
     "data": {
      "image/png": "[encoded data removed]",
      "text/plain": [
       "<Figure size 432x288 with 1 Axes>"
      ]
     },
     "metadata": {
      "needs_background": "light"
     },
     "output_type": "display_data"
    }
   ],
   "source": [
    "#As we have selected our best parameter,so finding auc scores for our test data to shown the results\n",
    "AUC_tfidfw2v_test_l1 = []\n",
    "for x in hyperparameters['C']:\n",
    "    model = LogisticRegression(penalty='l1',C=x)\n",
    "    model.fit(tfidf_sent_vectors_train,y_train2)\n",
    "    y_pred = model.predict_proba(tfidf_sent_vectors_test)[:,1]\n",
    "    AUC_tfidfw2v_test_l1.append(metrics.roc_auc_score(y_test,y_pred))\n",
    "\n",
    "#plotting ROC curve for train and test data\n",
    "plt.plot(hyperparameters['C'],AUC_tfidfw2v_train_l1,label='Train AUC values')\n",
    "plt.plot(hyperparameters['C'],AUC_tfidfw2v_test_l1,label='Test AUC values')\n",
    "plt.legend()\n",
    "plt.xlabel('Hyperparameter - C')\n",
    "plt.ylabel('AUC values')\n",
    "\n"
   ]
  },
  {
   "cell_type": "code",
   "execution_count": 366,
   "metadata": {},
   "outputs": [
    {
     "data": {
      "image/png": "[encoded data removed]",
      "text/plain": [
       "<Figure size 432x288 with 1 Axes>"
      ]
     },
     "metadata": {
      "needs_background": "light"
     },
     "output_type": "display_data"
    }
   ],
   "source": [
    "#Plotting ROC curve as FPR vs TPR\n",
    "\n",
    "model_roc_l1 = LogisticRegression(penalty='l1',C=optimal_C_tfidfw2v_l1)\n",
    "model_roc_l1 = model_roc_l1.fit(tfidf_sent_vectors_train,y_train2)\n",
    "\n",
    "y_pred_train_l1 = model_roc_l1.predict_proba(tfidf_sent_vectors_train)[:,1]\n",
    "fpr,tpr,t = metrics.roc_curve(y_train2,y_pred_train_l1)\n",
    "\n",
    "y_pred_test_l1 = model_roc_l1.predict_proba(tfidf_sent_vectors_test)[:,1]\n",
    "fpr2,tpr2,t = metrics.roc_curve(y_test,y_pred_test_l1)\n",
    "\n",
    "plt.plot(fpr,tpr,label='Train ROC Curve')\n",
    "plt.plot(fpr2,tpr2,label='Test ROC Curve')\n",
    "plt.legend()\n",
    "plt.xlabel('False Positive Rate')\n",
    "plt.ylabel('True Positive Rate')\n",
    "plt.title('ROC curve of train and test data')\n",
    "plt.show()"
   ]
  },
  {
   "cell_type": "code",
   "execution_count": 367,
   "metadata": {},
   "outputs": [
    {
     "name": "stdout",
     "output_type": "stream",
     "text": [
      "optimal_t_tfidfw2v_l1  0.5\n"
     ]
    },
    {
     "data": {
      "text/plain": [
       "<matplotlib.axes._subplots.AxesSubplot at 0x20342873da0>"
      ]
     },
     "execution_count": 367,
     "metadata": {},
     "output_type": "execute_result"
    },
    {
     "data": {
      "image/png": "[encoded data removed]",
      "text/plain": [
       "<Figure size 432x288 with 2 Axes>"
      ]
     },
     "metadata": {
      "needs_background": "light"
     },
     "output_type": "display_data"
    }
   ],
   "source": [
    "final_model_tfidfw2v_l1 = LogisticRegression(penalty='l1',C=optimal_C_tfidfw2v_l1)\n",
    "final_model_tfidfw2v_l1.fit(tfidf_sent_vectors_train,y_train2)\n",
    "y_pred_tfidfw2v_l1 = final_model_tfidfw2v_l1.predict_proba(tfidf_sent_vectors_test)[:,1]\n",
    "\n",
    "#finding the optimal threshold (based on correct prediction vs false prediction ration) for confusion matrix for a class to be classified\n",
    "t = list(np.arange(0.1,1.1,0.1))\n",
    "ratio=[]\n",
    "for x in t:\n",
    "    pred_class = binarize(y_pred_tfidfw2v_l1.reshape(-1,1),threshold = x)\n",
    "    tn, fp, fn, tp = metrics.confusion_matrix(y_test,pred_class).ravel()\n",
    "    ratio.append((tp+tn)/(fp+fn))\n",
    "#print(ratio)\n",
    "optimal_t_tfidfw2v_l1 = t[ratio.index(max(ratio))]\n",
    "print('optimal_t_tfidfw2v_l1 ',optimal_t_tfidfw2v_l1)\n",
    "\n",
    "##plotting confusion matrix for optimal threshold value\n",
    "\n",
    "pred_class = binarize(y_pred_tfidfw2v_l1.reshape(-1,1),threshold = optimal_t_tfidfw2v_l1)\n",
    "cm2 = metrics.confusion_matrix(y_test,pred_class)\n",
    "plt.figure()\n",
    "ax2 = plt.subplot()\n",
    "sns.heatmap(cm2,annot=True,ax=ax2,fmt='g')"
   ]
  },
  {
   "cell_type": "code",
   "execution_count": 368,
   "metadata": {},
   "outputs": [
    {
     "name": "stdout",
     "output_type": "stream",
     "text": [
      "sparsity_tfidf2v_l1  2.0\n",
      "Number of non zero entries which indicates sparsity  49\n"
     ]
    }
   ],
   "source": [
    "\n",
    "##Calculating sparsity on weight vector obtained using L1 regularization on AVG W2V\n",
    "#using already trained model\n",
    "\n",
    "coef_tfidfw2v_l1 = final_model_tfidfw2v_l1.coef_.ravel()\n",
    "sparsity_tfidf2v_l1 = np.mean(coef_tfidfw2v_l1 == 0) * 100\n",
    "\n",
    "print('sparsity_tfidf2v_l1 ',sparsity_tfidf2v_l1)\n",
    "print('Number of non zero entries which indicates sparsity ',np.count_nonzero(final_model_tfidfw2v_l1.coef_))"
   ]
  },
  {
   "cell_type": "markdown",
   "metadata": {
    "colab_type": "text",
    "id": "ynUK2tYDLPps"
   },
   "source": [
    "### [5.4.2] Applying Logistic Regression with L2 regularization on TFIDF W2V,<font color='red'> SET 4</font>"
   ]
  },
  {
   "cell_type": "code",
   "execution_count": 369,
   "metadata": {
    "colab": {},
    "colab_type": "code",
    "id": "hVYuiXl2LPpt"
   },
   "outputs": [
    {
     "name": "stdout",
     "output_type": "stream",
     "text": [
      "AUC score for Logistic Regression Model with TFIDF W2V features and l2 regularization  [0.77597419 0.87083341 0.87371027 0.87369338 0.87369289]\n",
      "best_auc_score_tfidfw2v_l2  0.873710271620191\n",
      "optimal_C_tfidfw2v_l2  1\n"
     ]
    },
    {
     "data": {
      "text/plain": [
       "Text(0,0.5,'AUC values')"
      ]
     },
     "execution_count": 369,
     "metadata": {},
     "output_type": "execute_result"
    },
    {
     "data": {
      "image/png": "[encoded data removed]",
      "text/plain": [
       "<Figure size 432x288 with 1 Axes>"
      ]
     },
     "metadata": {
      "needs_background": "light"
     },
     "output_type": "display_data"
    }
   ],
   "source": [
    "# Please write all the code with proper documentation\n",
    "\n",
    "hyperparameters = {'C':[10**-4,10**-2,10**0,10**2,10**4]}\n",
    "model = LogisticRegression(penalty='l2')\n",
    "\n",
    "clf_tfidfw2v_l2 = RandomizedSearchCV(model,param_distributions=hyperparameters,scoring='roc_auc',cv=10,random_state=100)\n",
    "clf_tfidfw2v_l2.fit(tfidf_sent_vectors_train,y_train2)\n",
    "\n",
    "print('AUC score for Logistic Regression Model with TFIDF W2V features and l2 regularization ',clf_tfidfw2v_l2.cv_results_['mean_test_score'])\n",
    "\n",
    "AUC_tfidfw2v_train_l2 = clf_tfidfw2v_l2.cv_results_['mean_test_score']\n",
    "best_auc_score_tfidfw2v_l2 = clf_tfidfw2v_l2.best_score_\n",
    "optimal_C_tfidfw2v_l2 = clf_tfidfw2v_l2.best_params_['C']\n",
    "\n",
    "print('best_auc_score_tfidfw2v_l2 ',best_auc_score_tfidfw2v_l2)\n",
    "print('optimal_C_tfidfw2v_l2 ',optimal_C_tfidfw2v_l2)\n",
    "\n",
    "#finding auc scores for our CV data for validation\n",
    "AUC_tfidfw2v_CV_l2 = []\n",
    "for x in hyperparameters['C']:\n",
    "    model = LogisticRegression(penalty='l2',C=x)\n",
    "    model.fit(tfidf_sent_vectors_train,y_train2)\n",
    "    y_pred = model.predict_proba(tfidf_sent_vectors_CV)[:,1]\n",
    "    AUC_tfidfw2v_CV_l2.append(metrics.roc_auc_score(y_CV,y_pred))\n",
    "    \n",
    "\n",
    "#plotting ROC curve for train and CV data\n",
    "plt.plot(hyperparameters['C'],AUC_tfidfw2v_train_l2,label='Train AUC values')\n",
    "plt.plot(hyperparameters['C'],AUC_tfidfw2v_CV_l2,label='CV AUC values')\n",
    "plt.legend()\n",
    "plt.xlabel('Hyperparameter - C')\n",
    "plt.ylabel('AUC values')\n",
    "\n",
    "#Observation : Our model is performing well when tested with CV data,so we can go ahead with considering best value of C as optimal_C_bow_l2  \n"
   ]
  },
  {
   "cell_type": "code",
   "execution_count": 370,
   "metadata": {},
   "outputs": [
    {
     "data": {
      "text/plain": [
       "Text(0,0.5,'AUC values')"
      ]
     },
     "execution_count": 370,
     "metadata": {},
     "output_type": "execute_result"
    },
    {
     "data": {
      "image/png": "[encoded data removed]",
      "text/plain": [
       "<Figure size 432x288 with 1 Axes>"
      ]
     },
     "metadata": {
      "needs_background": "light"
     },
     "output_type": "display_data"
    }
   ],
   "source": [
    "\n",
    "#As we have selected our best parameter,so finding auc scores for our test data to shown the results\n",
    "AUC_tfidfw2v_test_l2 = []\n",
    "for x in hyperparameters['C']:\n",
    "    model = LogisticRegression(penalty='l2',C=x)\n",
    "    model.fit(tfidf_sent_vectors_train,y_train2)\n",
    "    y_pred = model.predict_proba(tfidf_sent_vectors_test)[:,1]\n",
    "    AUC_tfidfw2v_test_l2.append(metrics.roc_auc_score(y_test,y_pred))\n",
    "\n",
    "#plotting ROC curve for train and test data\n",
    "plt.plot(hyperparameters['C'],AUC_tfidfw2v_train_l2,label='Train AUC values')\n",
    "plt.plot(hyperparameters['C'],AUC_tfidfw2v_test_l2,label='Test AUC values')\n",
    "plt.legend()\n",
    "plt.xlabel('Hyperparameter - C')\n",
    "plt.ylabel('AUC values')\n",
    "\n",
    "\n",
    "\n"
   ]
  },
  {
   "cell_type": "code",
   "execution_count": 371,
   "metadata": {},
   "outputs": [
    {
     "data": {
      "image/png": "[encoded data removed]",
      "text/plain": [
       "<Figure size 432x288 with 1 Axes>"
      ]
     },
     "metadata": {
      "needs_background": "light"
     },
     "output_type": "display_data"
    }
   ],
   "source": [
    "#Plotting ROC curve as FPR vs TPR\n",
    "\n",
    "model_roc_l2 = LogisticRegression(penalty='l2',C=optimal_C_tfidfw2v_l2)\n",
    "model_roc_l2 = model_roc_l2.fit(tfidf_sent_vectors_train,y_train2)\n",
    "\n",
    "y_pred_train_l2 = model_roc_l2.predict_proba(tfidf_sent_vectors_train)[:,1]\n",
    "fpr,tpr,t = metrics.roc_curve(y_train2,y_pred_train_l2)\n",
    "\n",
    "y_pred_test_l2 = model_roc_l2.predict_proba(tfidf_sent_vectors_test)[:,1]\n",
    "fpr2,tpr2,t = metrics.roc_curve(y_test,y_pred_test_l2)\n",
    "\n",
    "plt.plot(fpr,tpr,label='Train ROC Curve')\n",
    "plt.plot(fpr2,tpr2,label='Test ROC Curve')\n",
    "plt.legend()\n",
    "plt.xlabel('False Positive Rate')\n",
    "plt.ylabel('True Positive Rate')\n",
    "plt.title('ROC curve of train and test data')\n",
    "plt.show()\n",
    "\n"
   ]
  },
  {
   "cell_type": "code",
   "execution_count": 372,
   "metadata": {},
   "outputs": [
    {
     "name": "stdout",
     "output_type": "stream",
     "text": [
      "optimal_t_tfidfw2v_l2  0.5\n"
     ]
    },
    {
     "data": {
      "text/plain": [
       "<matplotlib.axes._subplots.AxesSubplot at 0x20342aa4ef0>"
      ]
     },
     "execution_count": 372,
     "metadata": {},
     "output_type": "execute_result"
    },
    {
     "data": {
      "image/png": "[encoded data removed]",
      "text/plain": [
       "<Figure size 432x288 with 2 Axes>"
      ]
     },
     "metadata": {
      "needs_background": "light"
     },
     "output_type": "display_data"
    }
   ],
   "source": [
    "final_model_tfidfw2v_l2 = LogisticRegression(penalty='l2',C=optimal_C_tfidfw2v_l2)\n",
    "final_model_tfidfw2v_l2.fit(tfidf_sent_vectors_train,y_train2)\n",
    "y_pred_tfidfw2v_l2 = final_model_tfidfw2v_l2.predict_proba(tfidf_sent_vectors_test)[:,1]\n",
    "\n",
    "#finding the optimal threshold (based on correct prediction vs false prediction ration) for confusion matrix for a class to be classified\n",
    "t = list(np.arange(0.1,1.1,0.1))\n",
    "ratio=[]\n",
    "for x in t:\n",
    "    pred_class = binarize(y_pred_tfidfw2v_l2.reshape(-1,1),threshold = x)\n",
    "    tn, fp, fn, tp = metrics.confusion_matrix(y_test,pred_class).ravel()\n",
    "    ratio.append((tp+tn)/(fp+fn))\n",
    "#print(ratio)\n",
    "optimal_t_tfidfw2v_l2 = t[ratio.index(max(ratio))]\n",
    "print('optimal_t_tfidfw2v_l2 ',optimal_t_tfidfw2v_l2)\n",
    "\n",
    "##plotting confusion matrix for optimal threshold value\n",
    "\n",
    "pred_class = binarize(y_pred_tfidfw2v_l2.reshape(-1,1),threshold = optimal_t_tfidfw2v_l2)\n",
    "cm2 = metrics.confusion_matrix(y_test,pred_class)\n",
    "plt.figure()\n",
    "ax2 = plt.subplot()\n",
    "sns.heatmap(cm2,annot=True,ax=ax2,fmt='g')\n",
    "\n"
   ]
  },
  {
   "cell_type": "code",
   "execution_count": 373,
   "metadata": {},
   "outputs": [
    {
     "name": "stdout",
     "output_type": "stream",
     "text": [
      "sparsity_tfidf2v_l2  0.0\n",
      "Number of non zero entries which indicates sparsity  50\n"
     ]
    }
   ],
   "source": [
    "\n",
    "##Calculating sparsity on weight vector obtained using l2 regularization on AVG W2V\n",
    "#using already trained model\n",
    "\n",
    "coef_tfidfw2v_l2 = final_model_tfidfw2v_l2.coef_.ravel()\n",
    "sparsity_tfidf2v_l2 = np.mean(coef_tfidfw2v_l2 == 0) * 100\n",
    "\n",
    "print('sparsity_tfidf2v_l2 ',sparsity_tfidf2v_l2)\n",
    "print('Number of non zero entries which indicates sparsity ',np.count_nonzero(final_model_tfidfw2v_l2.coef_))"
   ]
  },
  {
   "cell_type": "markdown",
   "metadata": {
    "colab_type": "text",
    "id": "nOvsBNf2LPpv"
   },
   "source": [
    "# [6] Conclusions"
   ]
  },
  {
   "cell_type": "code",
   "execution_count": 375,
   "metadata": {
    "colab": {},
    "colab_type": "code",
    "id": "T7VxD0q2LPpw"
   },
   "outputs": [
    {
     "name": "stdout",
     "output_type": "stream",
     "text": [
      "Number of data points used : 100k\n",
      "\n",
      "+---------------+----------------+---------------------+--------------------+-------------------+\n",
      "|   Vectorizer  | Regularization | Hyperameter(lambda) |        AUC         |      sparsity     |\n",
      "+---------------+----------------+---------------------+--------------------+-------------------+\n",
      "|      BOW      |       l1       |          1          | 0.9237682265991458 | 90.73062654575432 |\n",
      "|      BOW      |       l2       |          1          | 0.9234453932850831 |        0.0        |\n",
      "|     TFIDF     |       l1       |          1          | 0.9479564980759493 | 95.72663316582914 |\n",
      "|     TFIDF     |       l2       |          1          | 0.9529746488572289 |        0.0        |\n",
      "|    Avg W2v    |       l1       |          1          | 0.8981365109992843 |        N/A        |\n",
      "|    Avg W2v    |       l2       |          1          | 0.8981214573355768 |        N/A        |\n",
      "| TFIDF Avg W2v |       l1       |          1          | 0.8737287909806475 |        N/A        |\n",
      "| TFIDF Avg W2v |       l2       |          1          | 0.873710271620191  |        N/A        |\n",
      "+---------------+----------------+---------------------+--------------------+-------------------+\n"
     ]
    }
   ],
   "source": [
    "# Please compare all your models using Prettytable library\n",
    "print('Number of data points used : 100k\\n')\n",
    "from prettytable import PrettyTable    \n",
    "x = PrettyTable()\n",
    "x.field_names = [\"Vectorizer\",\"Regularization\", \"Hyperameter(lambda)\", \"AUC\",'sparsity']\n",
    "x.add_row([\"BOW\",\"l1\",optimal_C_bow_l1,best_auc_score_bow_l1,sparsity_bow_l1])\n",
    "x.add_row([\"BOW\",\"l2\",optimal_C_bow_l2,best_auc_score_bow_l2,sparsity_bow_l2])\n",
    "x.add_row([\"TFIDF\",\"l1\",optimal_C_tfidf_l1,best_auc_score_tfidf_l1,sparsity_tfidf_l1])\n",
    "x.add_row([\"TFIDF\",\"l2\",optimal_C_tfidf_l2,best_auc_score_tfidf_l2,sparsity_tfidf_l2])\n",
    "x.add_row([\"Avg W2v\",\"l1\",optimal_C_avgw2v_l1,best_auc_score_avgw2v_l1,'N/A'])\n",
    "x.add_row([\"Avg W2v\",\"l2\",optimal_C_avgw2v_l2,best_auc_score_avgw2v_l2,'N/A'])\n",
    "x.add_row([\"TFIDF Avg W2v\",'l1',optimal_C_tfidfw2v_l1,best_auc_score_tfidfw2v_l1,'N/A'])\n",
    "x.add_row([\"TFIDF Avg W2v\",\"l2\",optimal_C_tfidfw2v_l2,best_auc_score_tfidfw2v_l2,'N/A'])\n",
    "print(x)"
   ]
  },
  {
   "cell_type": "code",
   "execution_count": null,
   "metadata": {},
   "outputs": [],
   "source": []
  }
 ],
 "metadata": {
  "colab": {
   "name": "05 Amazon Fine Food Reviews Analysis_Logistic Regression.ipynb",
   "provenance": [],
   "version": "0.3.2"
  },
  "kernelspec": {
   "display_name": "Python 3",
   "language": "python",
   "name": "python3"
  },
  "language_info": {
   "codemirror_mode": {
    "name": "ipython",
    "version": 3
   },
   "file_extension": ".py",
   "mimetype": "text/x-python",
   "name": "python",
   "nbconvert_exporter": "python",
   "pygments_lexer": "ipython3",
   "version": "3.7.4"
  }
 },
 "nbformat": 4,
 "nbformat_minor": 1
}
